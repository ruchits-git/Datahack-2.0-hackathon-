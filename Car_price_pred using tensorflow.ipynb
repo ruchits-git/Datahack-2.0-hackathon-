{
  "nbformat": 4,
  "nbformat_minor": 0,
  "metadata": {
    "colab": {
      "provenance": []
    },
    "kernelspec": {
      "name": "python3",
      "display_name": "Python 3"
    },
    "language_info": {
      "name": "python"
    }
  },
  "cells": [
    {
      "cell_type": "code",
      "execution_count": null,
      "metadata": {
        "id": "9Y77zojVBZMZ"
      },
      "outputs": [],
      "source": [
        "import numpy as np"
      ]
    },
    {
      "cell_type": "code",
      "source": [
        "import pandas as pd\n",
        "import tensorflow as tf\n",
        "from tensorflow.keras.layers import Normalization,Dense,InputLayer\n",
        "from tensorflow.keras.losses import MeanSquaredError,MeanAbsoluteError,Huber\n",
        "from tensorflow.keras.optimizers import Adam\n",
        "from tensorflow.keras.metrics import RootMeanSquaredError"
      ],
      "metadata": {
        "id": "qGILEqluBmL3"
      },
      "execution_count": null,
      "outputs": []
    },
    {
      "cell_type": "code",
      "source": [
        "#tensors are multi dimensional arrays"
      ],
      "metadata": {
        "id": "KzgdHZ4VBnvR"
      },
      "execution_count": null,
      "outputs": []
    },
    {
      "cell_type": "code",
      "source": [
        "onedtensor = [2,0,1]\n"
      ],
      "metadata": {
        "id": "9QPu0W1uCOJb"
      },
      "execution_count": null,
      "outputs": []
    },
    {
      "cell_type": "code",
      "source": [
        "twodtensor =[[1,2,0],[5,6,7]]"
      ],
      "metadata": {
        "id": "3adS1tKzCsqC"
      },
      "execution_count": null,
      "outputs": []
    },
    {
      "cell_type": "code",
      "source": [],
      "metadata": {
        "id": "zuywD9hpC0h_"
      },
      "execution_count": null,
      "outputs": []
    },
    {
      "cell_type": "code",
      "source": [],
      "metadata": {
        "id": "JDTJPeqpD7lp"
      },
      "execution_count": null,
      "outputs": []
    },
    {
      "cell_type": "code",
      "source": [
        "onedtensor =tf.constant([2,0,3])"
      ],
      "metadata": {
        "id": "d5mYQg46D-eL"
      },
      "execution_count": null,
      "outputs": []
    },
    {
      "cell_type": "code",
      "source": [
        "print(onedtensor)"
      ],
      "metadata": {
        "id": "BtUEPGV5EGy1",
        "colab": {
          "base_uri": "https://localhost:8080/"
        },
        "outputId": "b33574d3-780b-4058-d16d-79baf71031f8"
      },
      "execution_count": null,
      "outputs": [
        {
          "output_type": "stream",
          "name": "stdout",
          "text": [
            "tf.Tensor([2 0 3], shape=(3,), dtype=int32)\n"
          ]
        }
      ]
    },
    {
      "cell_type": "code",
      "source": [
        "#(value,shape,dt)"
      ],
      "metadata": {
        "id": "KoAoH1ZtEKU6"
      },
      "execution_count": null,
      "outputs": []
    },
    {
      "cell_type": "code",
      "source": [
        "twodtensor =tf.constant([\n",
        "    [1,13,4],\n",
        "    [5,6,3],\n",
        "    [3,5,6,]\n",
        "])"
      ],
      "metadata": {
        "id": "0z90AlqnETST"
      },
      "execution_count": null,
      "outputs": []
    },
    {
      "cell_type": "code",
      "source": [
        "print(twodtensor)"
      ],
      "metadata": {
        "id": "Xae6vyy1E1X_",
        "colab": {
          "base_uri": "https://localhost:8080/"
        },
        "outputId": "671f958c-31e5-4811-f8db-5f7ea621de46"
      },
      "execution_count": null,
      "outputs": [
        {
          "output_type": "stream",
          "name": "stdout",
          "text": [
            "tf.Tensor(\n",
            "[[ 1 13  4]\n",
            " [ 5  6  3]\n",
            " [ 3  5  6]], shape=(3, 3), dtype=int32)\n"
          ]
        }
      ]
    },
    {
      "cell_type": "code",
      "source": [
        "three_d_tensor =tf.constant([\n",
        "    [[3,5,6],\n",
        "     [2,4,4]],\n",
        "\n",
        "    [[3,8,6],\n",
        "     [2,4,4]],\n",
        "\n",
        "    [[3,5,6],\n",
        "     [2,4,4]]\n",
        "])\n",
        "print(three_d_tensor)"
      ],
      "metadata": {
        "id": "MSIaaG_GE5G3",
        "colab": {
          "base_uri": "https://localhost:8080/"
        },
        "outputId": "a3e1ae2c-78cc-48c2-be9b-e01d7554b1a1"
      },
      "execution_count": null,
      "outputs": [
        {
          "output_type": "stream",
          "name": "stdout",
          "text": [
            "tf.Tensor(\n",
            "[[[3 5 6]\n",
            "  [2 4 4]]\n",
            "\n",
            " [[3 8 6]\n",
            "  [2 4 4]]\n",
            "\n",
            " [[3 5 6]\n",
            "  [2 4 4]]], shape=(3, 2, 3), dtype=int32)\n"
          ]
        }
      ]
    },
    {
      "cell_type": "code",
      "source": [
        "print(three_d_tensor.ndim)"
      ],
      "metadata": {
        "id": "Xgu04H9CFyRr",
        "colab": {
          "base_uri": "https://localhost:8080/"
        },
        "outputId": "31dd4886-ca51-44b0-d97b-6248ae3b1040"
      },
      "execution_count": null,
      "outputs": [
        {
          "output_type": "stream",
          "name": "stdout",
          "text": [
            "3\n"
          ]
        }
      ]
    },
    {
      "cell_type": "code",
      "source": [
        "fourdtensor =tf.constant([\n",
        "    [\n",
        "    [[3,5,6],\n",
        "     [2,4,4]],\n",
        "\n",
        "    [[3,8,6],\n",
        "     [2,4,4]],\n",
        "\n",
        "    [[3,5,6],\n",
        "     [2,4,4]]\n",
        "],\n",
        "     [\n",
        "    [[3,5,6],\n",
        "     [2,4,4]],\n",
        "\n",
        "    [[3,8,6],\n",
        "     [2,4,4]],\n",
        "\n",
        "    [[3,5,6],\n",
        "     [2,4,4]]\n",
        "],\n",
        "     [\n",
        "    [[3,5,6],\n",
        "     [2,4,4]],\n",
        "\n",
        "    [[3,8,6],\n",
        "     [2,4,4]],\n",
        "\n",
        "    [[3,5,6],\n",
        "     [2,4,4]]\n",
        "],\n",
        "\n",
        "],dtype=tf.float32)\n",
        "print(fourdtensor)"
      ],
      "metadata": {
        "id": "ErKsjsDNMsUt",
        "colab": {
          "base_uri": "https://localhost:8080/"
        },
        "outputId": "94694129-c293-46ba-cf3c-a65a07b90468"
      },
      "execution_count": null,
      "outputs": [
        {
          "output_type": "stream",
          "name": "stdout",
          "text": [
            "tf.Tensor(\n",
            "[[[[3. 5. 6.]\n",
            "   [2. 4. 4.]]\n",
            "\n",
            "  [[3. 8. 6.]\n",
            "   [2. 4. 4.]]\n",
            "\n",
            "  [[3. 5. 6.]\n",
            "   [2. 4. 4.]]]\n",
            "\n",
            "\n",
            " [[[3. 5. 6.]\n",
            "   [2. 4. 4.]]\n",
            "\n",
            "  [[3. 8. 6.]\n",
            "   [2. 4. 4.]]\n",
            "\n",
            "  [[3. 5. 6.]\n",
            "   [2. 4. 4.]]]\n",
            "\n",
            "\n",
            " [[[3. 5. 6.]\n",
            "   [2. 4. 4.]]\n",
            "\n",
            "  [[3. 8. 6.]\n",
            "   [2. 4. 4.]]\n",
            "\n",
            "  [[3. 5. 6.]\n",
            "   [2. 4. 4.]]]], shape=(3, 3, 2, 3), dtype=float32)\n"
          ]
        }
      ]
    },
    {
      "cell_type": "markdown",
      "source": [],
      "metadata": {
        "id": "jl8ZDiYdPmFc"
      }
    },
    {
      "cell_type": "code",
      "source": [
        "arr =np.array([1,2,4])"
      ],
      "metadata": {
        "id": "jrzwOcbhGRa0"
      },
      "execution_count": null,
      "outputs": []
    },
    {
      "cell_type": "code",
      "source": [
        "print(arr)"
      ],
      "metadata": {
        "id": "y-ytA1BtPpwF",
        "colab": {
          "base_uri": "https://localhost:8080/"
        },
        "outputId": "9a802198-c687-41c1-9b5f-5ca35815fea8"
      },
      "execution_count": null,
      "outputs": [
        {
          "output_type": "stream",
          "name": "stdout",
          "text": [
            "[1 2 4]\n"
          ]
        }
      ]
    },
    {
      "cell_type": "code",
      "source": [
        "coverted_tensor =tf.convert_to_tensor(arr)\n"
      ],
      "metadata": {
        "id": "i_D-SVfkPull"
      },
      "execution_count": null,
      "outputs": []
    },
    {
      "cell_type": "code",
      "source": [
        "arr"
      ],
      "metadata": {
        "id": "udnGn07bP6l_",
        "colab": {
          "base_uri": "https://localhost:8080/"
        },
        "outputId": "066d65f5-04d3-4405-f730-f4e8e376f7e1"
      },
      "execution_count": null,
      "outputs": [
        {
          "output_type": "execute_result",
          "data": {
            "text/plain": [
              "array([1, 2, 4])"
            ]
          },
          "metadata": {},
          "execution_count": 38
        }
      ]
    },
    {
      "cell_type": "code",
      "source": [
        "print(coverted_tensor)"
      ],
      "metadata": {
        "id": "ZsQlB9e3P99f",
        "colab": {
          "base_uri": "https://localhost:8080/"
        },
        "outputId": "66f54da7-fd3b-4c32-8126-8f8bc8408b71"
      },
      "execution_count": null,
      "outputs": [
        {
          "output_type": "stream",
          "name": "stdout",
          "text": [
            "tf.Tensor([1 2 4], shape=(3,), dtype=int64)\n"
          ]
        }
      ]
    },
    {
      "cell_type": "code",
      "source": [
        "#eye"
      ],
      "metadata": {
        "id": "lGv3h8SAQKxF"
      },
      "execution_count": null,
      "outputs": []
    },
    {
      "cell_type": "code",
      "source": [
        "eye_tensor =tf.eye(\n",
        "      num_rows =3,\n",
        "      num_columns=4,\n",
        "      batch_shape=None,\n",
        "      dtype=tf.int32,\n",
        "      name=None\n",
        "\n",
        ")"
      ],
      "metadata": {
        "id": "5SWwuUTAQVID"
      },
      "execution_count": null,
      "outputs": []
    },
    {
      "cell_type": "code",
      "source": [
        "print(eye_tensor)"
      ],
      "metadata": {
        "id": "v4bDfvn8SLSM",
        "colab": {
          "base_uri": "https://localhost:8080/"
        },
        "outputId": "638178b5-c9ba-48b4-cede-6de9d5c2da03"
      },
      "execution_count": null,
      "outputs": [
        {
          "output_type": "stream",
          "name": "stdout",
          "text": [
            "tf.Tensor(\n",
            "[[1 0 0 0]\n",
            " [0 1 0 0]\n",
            " [0 0 1 0]], shape=(3, 4), dtype=int32)\n"
          ]
        }
      ]
    },
    {
      "cell_type": "code",
      "source": [
        "one_tensor =tf.ones(\n",
        "      [3,4],\n",
        "      dtype=tf.int32,\n",
        "      name=None\n",
        "\n",
        ")"
      ],
      "metadata": {
        "id": "5w0LNi45SOBJ"
      },
      "execution_count": null,
      "outputs": []
    },
    {
      "cell_type": "code",
      "source": [
        "print(one_tensor)"
      ],
      "metadata": {
        "id": "YqHVYnWGVwst",
        "colab": {
          "base_uri": "https://localhost:8080/"
        },
        "outputId": "9a504122-8d6a-4cf3-9de0-67e0d07275a8"
      },
      "execution_count": null,
      "outputs": [
        {
          "output_type": "stream",
          "name": "stdout",
          "text": [
            "tf.Tensor(\n",
            "[[1 1 1 1]\n",
            " [1 1 1 1]\n",
            " [1 1 1 1]], shape=(3, 4), dtype=int32)\n"
          ]
        }
      ]
    },
    {
      "cell_type": "code",
      "source": [
        "a=tf.random.normal(shape =[3,3],\n",
        "                 mean = 50,\n",
        "                 stddev= 5,\n",
        "                 dtype = tf.dtypes.float32,\n",
        "                 seed = None,\n",
        "                 name = None)"
      ],
      "metadata": {
        "id": "3QnJmEWAWOfj"
      },
      "execution_count": null,
      "outputs": []
    },
    {
      "cell_type": "code",
      "source": [
        "import matplotlib.pyplot as plt"
      ],
      "metadata": {
        "id": "FQRdm75hb04G"
      },
      "execution_count": null,
      "outputs": []
    },
    {
      "cell_type": "code",
      "source": [
        "print(a)"
      ],
      "metadata": {
        "id": "z9FjdOgrcLBs",
        "colab": {
          "base_uri": "https://localhost:8080/"
        },
        "outputId": "820f737c-5ffb-4771-80b4-311dc5ea5737"
      },
      "execution_count": null,
      "outputs": [
        {
          "output_type": "stream",
          "name": "stdout",
          "text": [
            "tf.Tensor(\n",
            "[[56.463417 54.846733 48.079247]\n",
            " [51.856384 54.965137 55.146103]\n",
            " [49.7487   49.026443 56.55507 ]], shape=(3, 3), dtype=float32)\n"
          ]
        }
      ]
    },
    {
      "cell_type": "code",
      "source": [
        "a =tf.constant([1,2,3,4,5],dtype=tf.float32)"
      ],
      "metadata": {
        "id": "Z9s76qb_cx_H"
      },
      "execution_count": null,
      "outputs": []
    },
    {
      "cell_type": "code",
      "source": [
        "print(a[1:2])"
      ],
      "metadata": {
        "id": "KqIsG26htLQU",
        "colab": {
          "base_uri": "https://localhost:8080/"
        },
        "outputId": "1b6ad541-8ee1-4edf-c76b-20ec3c14271e"
      },
      "execution_count": null,
      "outputs": [
        {
          "output_type": "stream",
          "name": "stdout",
          "text": [
            "tf.Tensor([2.], shape=(1,), dtype=float32)\n"
          ]
        }
      ]
    },
    {
      "cell_type": "code",
      "source": [
        "abs = tf.constant([2.25+5.75j])\n",
        "print(tf.abs(abs))"
      ],
      "metadata": {
        "id": "AVcOJzkztQJG",
        "colab": {
          "base_uri": "https://localhost:8080/"
        },
        "outputId": "34759016-feb9-4e3d-a916-74ca6d91dc83"
      },
      "execution_count": null,
      "outputs": [
        {
          "output_type": "stream",
          "name": "stdout",
          "text": [
            "tf.Tensor([6.17454452], shape=(1,), dtype=float64)\n"
          ]
        }
      ]
    },
    {
      "cell_type": "code",
      "source": [
        "sqrt =tf.constant((-2.25)**2+(4.75)**2)"
      ],
      "metadata": {
        "id": "Y5MG9dWt0GFJ"
      },
      "execution_count": null,
      "outputs": []
    },
    {
      "cell_type": "code",
      "source": [
        "print(tf.sqrt(sqrt))"
      ],
      "metadata": {
        "id": "vyPmPjuJ0T4-",
        "colab": {
          "base_uri": "https://localhost:8080/"
        },
        "outputId": "a93d72cd-dafc-4214-cacf-2d2abdbead71"
      },
      "execution_count": null,
      "outputs": [
        {
          "output_type": "stream",
          "name": "stdout",
          "text": [
            "tf.Tensor(5.255949, shape=(), dtype=float32)\n"
          ]
        }
      ]
    },
    {
      "cell_type": "code",
      "source": [
        "a=tf.constant([2,4,5,6,6])"
      ],
      "metadata": {
        "id": "FCURnWwK0aot"
      },
      "execution_count": null,
      "outputs": []
    },
    {
      "cell_type": "code",
      "source": [
        "b=tf.constant([2])"
      ],
      "metadata": {
        "id": "z27xjlhF1RdR"
      },
      "execution_count": null,
      "outputs": []
    },
    {
      "cell_type": "code",
      "source": [
        "tf.add(a,b)"
      ],
      "metadata": {
        "id": "EeN9BbHx1WTT",
        "colab": {
          "base_uri": "https://localhost:8080/"
        },
        "outputId": "fda7dc1d-6b8f-447f-a727-ab886ddf746c"
      },
      "execution_count": null,
      "outputs": [
        {
          "output_type": "execute_result",
          "data": {
            "text/plain": [
              "<tf.Tensor: shape=(5,), dtype=int32, numpy=array([4, 6, 7, 8, 8], dtype=int32)>"
            ]
          },
          "metadata": {},
          "execution_count": 55
        }
      ]
    },
    {
      "cell_type": "code",
      "source": [
        "tf.multiply(a,b)"
      ],
      "metadata": {
        "id": "lXYyO0CY1c10",
        "colab": {
          "base_uri": "https://localhost:8080/"
        },
        "outputId": "997e9cbc-582e-46b2-ee92-7c6eadc1fd14"
      },
      "execution_count": null,
      "outputs": [
        {
          "output_type": "execute_result",
          "data": {
            "text/plain": [
              "<tf.Tensor: shape=(5,), dtype=int32, numpy=array([ 4,  8, 10, 12, 12], dtype=int32)>"
            ]
          },
          "metadata": {},
          "execution_count": 56
        }
      ]
    },
    {
      "cell_type": "code",
      "source": [
        "tf.divide(a,b)"
      ],
      "metadata": {
        "id": "LdD_eOHx1jOt",
        "colab": {
          "base_uri": "https://localhost:8080/"
        },
        "outputId": "c08234ad-8c0a-42df-e4a2-8b17933ddbd1"
      },
      "execution_count": null,
      "outputs": [
        {
          "output_type": "execute_result",
          "data": {
            "text/plain": [
              "<tf.Tensor: shape=(5,), dtype=float64, numpy=array([1. , 2. , 2.5, 3. , 3. ])>"
            ]
          },
          "metadata": {},
          "execution_count": 57
        }
      ]
    },
    {
      "cell_type": "code",
      "source": [
        "hi=tf.constant([\n",
        "    [1,13,4],\n",
        "    [5,6,3],\n",
        "    [3,5,6,]\n",
        "])"
      ],
      "metadata": {
        "id": "nAa612EF1k8g"
      },
      "execution_count": null,
      "outputs": []
    },
    {
      "cell_type": "code",
      "source": [
        "bye =tf.constant([\n",
        "    [1,7,4],\n",
        "    [5,9,0],\n",
        "    [4,5,3,]\n",
        "])"
      ],
      "metadata": {
        "id": "XBc5TH3XJexE"
      },
      "execution_count": null,
      "outputs": []
    },
    {
      "cell_type": "code",
      "source": [
        "tf.linalg.matmul(hi,bye)"
      ],
      "metadata": {
        "id": "TPzHhZPDJgnT",
        "colab": {
          "base_uri": "https://localhost:8080/"
        },
        "outputId": "c04e38d2-2eb8-4eb2-f9da-5106b5c7087d"
      },
      "execution_count": null,
      "outputs": [
        {
          "output_type": "execute_result",
          "data": {
            "text/plain": [
              "<tf.Tensor: shape=(3, 3), dtype=int32, numpy=\n",
              "array([[ 82, 144,  16],\n",
              "       [ 47, 104,  29],\n",
              "       [ 52,  96,  30]], dtype=int32)>"
            ]
          },
          "metadata": {},
          "execution_count": 60
        }
      ]
    },
    {
      "cell_type": "code",
      "source": [
        "hi@bye"
      ],
      "metadata": {
        "id": "v65xrmzmJq-S",
        "colab": {
          "base_uri": "https://localhost:8080/"
        },
        "outputId": "1e60a0b2-21d7-4401-946e-d47e58d27ee0"
      },
      "execution_count": null,
      "outputs": [
        {
          "output_type": "execute_result",
          "data": {
            "text/plain": [
              "<tf.Tensor: shape=(3, 3), dtype=int32, numpy=\n",
              "array([[ 82, 144,  16],\n",
              "       [ 47, 104,  29],\n",
              "       [ 52,  96,  30]], dtype=int32)>"
            ]
          },
          "metadata": {},
          "execution_count": 61
        }
      ]
    },
    {
      "cell_type": "code",
      "source": [
        "a=tf.transpose(bye)"
      ],
      "metadata": {
        "id": "vcPxfGklKKz0"
      },
      "execution_count": null,
      "outputs": []
    },
    {
      "cell_type": "code",
      "source": [
        "print(tf.shape(a))"
      ],
      "metadata": {
        "id": "TlHLUVTpKSU2",
        "colab": {
          "base_uri": "https://localhost:8080/"
        },
        "outputId": "7a1a00bf-3e17-49c0-ac70-a7cdaf7f92d1"
      },
      "execution_count": null,
      "outputs": [
        {
          "output_type": "stream",
          "name": "stdout",
          "text": [
            "tf.Tensor([3 3], shape=(2,), dtype=int32)\n"
          ]
        }
      ]
    },
    {
      "cell_type": "code",
      "source": [
        "hi@a"
      ],
      "metadata": {
        "id": "cIFHsss6Lsh0",
        "colab": {
          "base_uri": "https://localhost:8080/"
        },
        "outputId": "a3a18e73-026a-49e5-865d-255c8fe0fa36"
      },
      "execution_count": null,
      "outputs": [
        {
          "output_type": "execute_result",
          "data": {
            "text/plain": [
              "<tf.Tensor: shape=(3, 3), dtype=int32, numpy=\n",
              "array([[108, 122,  81],\n",
              "       [ 59,  79,  59],\n",
              "       [ 62,  60,  55]], dtype=int32)>"
            ]
          },
          "metadata": {},
          "execution_count": 64
        }
      ]
    },
    {
      "cell_type": "code",
      "source": [
        "df =pd.read_csv(\"/content/train (3).csv\")"
      ],
      "metadata": {
        "id": "mVr0KzLBLxxa"
      },
      "execution_count": null,
      "outputs": []
    },
    {
      "cell_type": "code",
      "source": [
        "df"
      ],
      "metadata": {
        "id": "WUa8f1xMAw_n",
        "colab": {
          "base_uri": "https://localhost:8080/",
          "height": 522
        },
        "outputId": "5606c175-f986-476f-a3c9-8b70ffd6ca6e"
      },
      "execution_count": null,
      "outputs": [
        {
          "output_type": "execute_result",
          "data": {
            "text/plain": [
              "     v.id  on road old  on road now  years      km  rating  condition  \\\n",
              "0       1       535651       798186      3   78945       1          2   \n",
              "1       2       591911       861056      6  117220       5          9   \n",
              "2       3       686990       770762      2  132538       2          8   \n",
              "3       4       573999       722381      4  101065       4          3   \n",
              "4       5       691388       811335      6   61559       3          9   \n",
              "..    ...          ...          ...    ...     ...     ...        ...   \n",
              "995   996       633238       743850      5  125092       1          6   \n",
              "996   997       599626       848195      4   83370       2          9   \n",
              "997   998       646344       842733      7   86722       1          8   \n",
              "998   999       535559       732439      2  140478       4          5   \n",
              "999  1000       590105       779743      5   67295       4          2   \n",
              "\n",
              "     economy  top speed   hp  torque  current price  \n",
              "0         14        177   73     123       351318.0  \n",
              "1          9        148   74      95       285001.5  \n",
              "2         15        181   53      97       215386.0  \n",
              "3         11        197   54     116       244295.5  \n",
              "4         12        160   53     105       531114.5  \n",
              "..       ...        ...  ...     ...            ...  \n",
              "995       11        171   95      97       190744.0  \n",
              "996       14        161  101     120       419748.0  \n",
              "997        9        196  113      89       405871.0  \n",
              "998        9        184  112     128        74398.0  \n",
              "999        8        199   99      96       414938.5  \n",
              "\n",
              "[1000 rows x 12 columns]"
            ],
            "text/html": [
              "\n",
              "\n",
              "  <div id=\"df-3f8ff481-f180-42b1-9e84-d39f33405001\">\n",
              "    <div class=\"colab-df-container\">\n",
              "      <div>\n",
              "<style scoped>\n",
              "    .dataframe tbody tr th:only-of-type {\n",
              "        vertical-align: middle;\n",
              "    }\n",
              "\n",
              "    .dataframe tbody tr th {\n",
              "        vertical-align: top;\n",
              "    }\n",
              "\n",
              "    .dataframe thead th {\n",
              "        text-align: right;\n",
              "    }\n",
              "</style>\n",
              "<table border=\"1\" class=\"dataframe\">\n",
              "  <thead>\n",
              "    <tr style=\"text-align: right;\">\n",
              "      <th></th>\n",
              "      <th>v.id</th>\n",
              "      <th>on road old</th>\n",
              "      <th>on road now</th>\n",
              "      <th>years</th>\n",
              "      <th>km</th>\n",
              "      <th>rating</th>\n",
              "      <th>condition</th>\n",
              "      <th>economy</th>\n",
              "      <th>top speed</th>\n",
              "      <th>hp</th>\n",
              "      <th>torque</th>\n",
              "      <th>current price</th>\n",
              "    </tr>\n",
              "  </thead>\n",
              "  <tbody>\n",
              "    <tr>\n",
              "      <th>0</th>\n",
              "      <td>1</td>\n",
              "      <td>535651</td>\n",
              "      <td>798186</td>\n",
              "      <td>3</td>\n",
              "      <td>78945</td>\n",
              "      <td>1</td>\n",
              "      <td>2</td>\n",
              "      <td>14</td>\n",
              "      <td>177</td>\n",
              "      <td>73</td>\n",
              "      <td>123</td>\n",
              "      <td>351318.0</td>\n",
              "    </tr>\n",
              "    <tr>\n",
              "      <th>1</th>\n",
              "      <td>2</td>\n",
              "      <td>591911</td>\n",
              "      <td>861056</td>\n",
              "      <td>6</td>\n",
              "      <td>117220</td>\n",
              "      <td>5</td>\n",
              "      <td>9</td>\n",
              "      <td>9</td>\n",
              "      <td>148</td>\n",
              "      <td>74</td>\n",
              "      <td>95</td>\n",
              "      <td>285001.5</td>\n",
              "    </tr>\n",
              "    <tr>\n",
              "      <th>2</th>\n",
              "      <td>3</td>\n",
              "      <td>686990</td>\n",
              "      <td>770762</td>\n",
              "      <td>2</td>\n",
              "      <td>132538</td>\n",
              "      <td>2</td>\n",
              "      <td>8</td>\n",
              "      <td>15</td>\n",
              "      <td>181</td>\n",
              "      <td>53</td>\n",
              "      <td>97</td>\n",
              "      <td>215386.0</td>\n",
              "    </tr>\n",
              "    <tr>\n",
              "      <th>3</th>\n",
              "      <td>4</td>\n",
              "      <td>573999</td>\n",
              "      <td>722381</td>\n",
              "      <td>4</td>\n",
              "      <td>101065</td>\n",
              "      <td>4</td>\n",
              "      <td>3</td>\n",
              "      <td>11</td>\n",
              "      <td>197</td>\n",
              "      <td>54</td>\n",
              "      <td>116</td>\n",
              "      <td>244295.5</td>\n",
              "    </tr>\n",
              "    <tr>\n",
              "      <th>4</th>\n",
              "      <td>5</td>\n",
              "      <td>691388</td>\n",
              "      <td>811335</td>\n",
              "      <td>6</td>\n",
              "      <td>61559</td>\n",
              "      <td>3</td>\n",
              "      <td>9</td>\n",
              "      <td>12</td>\n",
              "      <td>160</td>\n",
              "      <td>53</td>\n",
              "      <td>105</td>\n",
              "      <td>531114.5</td>\n",
              "    </tr>\n",
              "    <tr>\n",
              "      <th>...</th>\n",
              "      <td>...</td>\n",
              "      <td>...</td>\n",
              "      <td>...</td>\n",
              "      <td>...</td>\n",
              "      <td>...</td>\n",
              "      <td>...</td>\n",
              "      <td>...</td>\n",
              "      <td>...</td>\n",
              "      <td>...</td>\n",
              "      <td>...</td>\n",
              "      <td>...</td>\n",
              "      <td>...</td>\n",
              "    </tr>\n",
              "    <tr>\n",
              "      <th>995</th>\n",
              "      <td>996</td>\n",
              "      <td>633238</td>\n",
              "      <td>743850</td>\n",
              "      <td>5</td>\n",
              "      <td>125092</td>\n",
              "      <td>1</td>\n",
              "      <td>6</td>\n",
              "      <td>11</td>\n",
              "      <td>171</td>\n",
              "      <td>95</td>\n",
              "      <td>97</td>\n",
              "      <td>190744.0</td>\n",
              "    </tr>\n",
              "    <tr>\n",
              "      <th>996</th>\n",
              "      <td>997</td>\n",
              "      <td>599626</td>\n",
              "      <td>848195</td>\n",
              "      <td>4</td>\n",
              "      <td>83370</td>\n",
              "      <td>2</td>\n",
              "      <td>9</td>\n",
              "      <td>14</td>\n",
              "      <td>161</td>\n",
              "      <td>101</td>\n",
              "      <td>120</td>\n",
              "      <td>419748.0</td>\n",
              "    </tr>\n",
              "    <tr>\n",
              "      <th>997</th>\n",
              "      <td>998</td>\n",
              "      <td>646344</td>\n",
              "      <td>842733</td>\n",
              "      <td>7</td>\n",
              "      <td>86722</td>\n",
              "      <td>1</td>\n",
              "      <td>8</td>\n",
              "      <td>9</td>\n",
              "      <td>196</td>\n",
              "      <td>113</td>\n",
              "      <td>89</td>\n",
              "      <td>405871.0</td>\n",
              "    </tr>\n",
              "    <tr>\n",
              "      <th>998</th>\n",
              "      <td>999</td>\n",
              "      <td>535559</td>\n",
              "      <td>732439</td>\n",
              "      <td>2</td>\n",
              "      <td>140478</td>\n",
              "      <td>4</td>\n",
              "      <td>5</td>\n",
              "      <td>9</td>\n",
              "      <td>184</td>\n",
              "      <td>112</td>\n",
              "      <td>128</td>\n",
              "      <td>74398.0</td>\n",
              "    </tr>\n",
              "    <tr>\n",
              "      <th>999</th>\n",
              "      <td>1000</td>\n",
              "      <td>590105</td>\n",
              "      <td>779743</td>\n",
              "      <td>5</td>\n",
              "      <td>67295</td>\n",
              "      <td>4</td>\n",
              "      <td>2</td>\n",
              "      <td>8</td>\n",
              "      <td>199</td>\n",
              "      <td>99</td>\n",
              "      <td>96</td>\n",
              "      <td>414938.5</td>\n",
              "    </tr>\n",
              "  </tbody>\n",
              "</table>\n",
              "<p>1000 rows × 12 columns</p>\n",
              "</div>\n",
              "      <button class=\"colab-df-convert\" onclick=\"convertToInteractive('df-3f8ff481-f180-42b1-9e84-d39f33405001')\"\n",
              "              title=\"Convert this dataframe to an interactive table.\"\n",
              "              style=\"display:none;\">\n",
              "\n",
              "  <svg xmlns=\"http://www.w3.org/2000/svg\" height=\"24px\"viewBox=\"0 0 24 24\"\n",
              "       width=\"24px\">\n",
              "    <path d=\"M0 0h24v24H0V0z\" fill=\"none\"/>\n",
              "    <path d=\"M18.56 5.44l.94 2.06.94-2.06 2.06-.94-2.06-.94-.94-2.06-.94 2.06-2.06.94zm-11 1L8.5 8.5l.94-2.06 2.06-.94-2.06-.94L8.5 2.5l-.94 2.06-2.06.94zm10 10l.94 2.06.94-2.06 2.06-.94-2.06-.94-.94-2.06-.94 2.06-2.06.94z\"/><path d=\"M17.41 7.96l-1.37-1.37c-.4-.4-.92-.59-1.43-.59-.52 0-1.04.2-1.43.59L10.3 9.45l-7.72 7.72c-.78.78-.78 2.05 0 2.83L4 21.41c.39.39.9.59 1.41.59.51 0 1.02-.2 1.41-.59l7.78-7.78 2.81-2.81c.8-.78.8-2.07 0-2.86zM5.41 20L4 18.59l7.72-7.72 1.47 1.35L5.41 20z\"/>\n",
              "  </svg>\n",
              "      </button>\n",
              "\n",
              "\n",
              "\n",
              "    <div id=\"df-fbaf7834-8294-4c7f-8a7c-89e3baabd406\">\n",
              "      <button class=\"colab-df-quickchart\" onclick=\"quickchart('df-fbaf7834-8294-4c7f-8a7c-89e3baabd406')\"\n",
              "              title=\"Suggest charts.\"\n",
              "              style=\"display:none;\">\n",
              "\n",
              "<svg xmlns=\"http://www.w3.org/2000/svg\" height=\"24px\"viewBox=\"0 0 24 24\"\n",
              "     width=\"24px\">\n",
              "    <g>\n",
              "        <path d=\"M19 3H5c-1.1 0-2 .9-2 2v14c0 1.1.9 2 2 2h14c1.1 0 2-.9 2-2V5c0-1.1-.9-2-2-2zM9 17H7v-7h2v7zm4 0h-2V7h2v10zm4 0h-2v-4h2v4z\"/>\n",
              "    </g>\n",
              "</svg>\n",
              "      </button>\n",
              "    </div>\n",
              "\n",
              "<style>\n",
              "  .colab-df-quickchart {\n",
              "    background-color: #E8F0FE;\n",
              "    border: none;\n",
              "    border-radius: 50%;\n",
              "    cursor: pointer;\n",
              "    display: none;\n",
              "    fill: #1967D2;\n",
              "    height: 32px;\n",
              "    padding: 0 0 0 0;\n",
              "    width: 32px;\n",
              "  }\n",
              "\n",
              "  .colab-df-quickchart:hover {\n",
              "    background-color: #E2EBFA;\n",
              "    box-shadow: 0px 1px 2px rgba(60, 64, 67, 0.3), 0px 1px 3px 1px rgba(60, 64, 67, 0.15);\n",
              "    fill: #174EA6;\n",
              "  }\n",
              "\n",
              "  [theme=dark] .colab-df-quickchart {\n",
              "    background-color: #3B4455;\n",
              "    fill: #D2E3FC;\n",
              "  }\n",
              "\n",
              "  [theme=dark] .colab-df-quickchart:hover {\n",
              "    background-color: #434B5C;\n",
              "    box-shadow: 0px 1px 3px 1px rgba(0, 0, 0, 0.15);\n",
              "    filter: drop-shadow(0px 1px 2px rgba(0, 0, 0, 0.3));\n",
              "    fill: #FFFFFF;\n",
              "  }\n",
              "</style>\n",
              "\n",
              "    <script>\n",
              "      async function quickchart(key) {\n",
              "        const containerElement = document.querySelector('#' + key);\n",
              "        const charts = await google.colab.kernel.invokeFunction(\n",
              "            'suggestCharts', [key], {});\n",
              "      }\n",
              "    </script>\n",
              "\n",
              "      <script>\n",
              "\n",
              "function displayQuickchartButton(domScope) {\n",
              "  let quickchartButtonEl =\n",
              "    domScope.querySelector('#df-fbaf7834-8294-4c7f-8a7c-89e3baabd406 button.colab-df-quickchart');\n",
              "  quickchartButtonEl.style.display =\n",
              "    google.colab.kernel.accessAllowed ? 'block' : 'none';\n",
              "}\n",
              "\n",
              "        displayQuickchartButton(document);\n",
              "      </script>\n",
              "      <style>\n",
              "    .colab-df-container {\n",
              "      display:flex;\n",
              "      flex-wrap:wrap;\n",
              "      gap: 12px;\n",
              "    }\n",
              "\n",
              "    .colab-df-convert {\n",
              "      background-color: #E8F0FE;\n",
              "      border: none;\n",
              "      border-radius: 50%;\n",
              "      cursor: pointer;\n",
              "      display: none;\n",
              "      fill: #1967D2;\n",
              "      height: 32px;\n",
              "      padding: 0 0 0 0;\n",
              "      width: 32px;\n",
              "    }\n",
              "\n",
              "    .colab-df-convert:hover {\n",
              "      background-color: #E2EBFA;\n",
              "      box-shadow: 0px 1px 2px rgba(60, 64, 67, 0.3), 0px 1px 3px 1px rgba(60, 64, 67, 0.15);\n",
              "      fill: #174EA6;\n",
              "    }\n",
              "\n",
              "    [theme=dark] .colab-df-convert {\n",
              "      background-color: #3B4455;\n",
              "      fill: #D2E3FC;\n",
              "    }\n",
              "\n",
              "    [theme=dark] .colab-df-convert:hover {\n",
              "      background-color: #434B5C;\n",
              "      box-shadow: 0px 1px 3px 1px rgba(0, 0, 0, 0.15);\n",
              "      filter: drop-shadow(0px 1px 2px rgba(0, 0, 0, 0.3));\n",
              "      fill: #FFFFFF;\n",
              "    }\n",
              "  </style>\n",
              "\n",
              "      <script>\n",
              "        const buttonEl =\n",
              "          document.querySelector('#df-3f8ff481-f180-42b1-9e84-d39f33405001 button.colab-df-convert');\n",
              "        buttonEl.style.display =\n",
              "          google.colab.kernel.accessAllowed ? 'block' : 'none';\n",
              "\n",
              "        async function convertToInteractive(key) {\n",
              "          const element = document.querySelector('#df-3f8ff481-f180-42b1-9e84-d39f33405001');\n",
              "          const dataTable =\n",
              "            await google.colab.kernel.invokeFunction('convertToInteractive',\n",
              "                                                     [key], {});\n",
              "          if (!dataTable) return;\n",
              "\n",
              "          const docLinkHtml = 'Like what you see? Visit the ' +\n",
              "            '<a target=\"_blank\" href=https://colab.research.google.com/notebooks/data_table.ipynb>data table notebook</a>'\n",
              "            + ' to learn more about interactive tables.';\n",
              "          element.innerHTML = '';\n",
              "          dataTable['output_type'] = 'display_data';\n",
              "          await google.colab.output.renderOutput(dataTable, element);\n",
              "          const docLink = document.createElement('div');\n",
              "          docLink.innerHTML = docLinkHtml;\n",
              "          element.appendChild(docLink);\n",
              "        }\n",
              "      </script>\n",
              "    </div>\n",
              "  </div>\n"
            ]
          },
          "metadata": {},
          "execution_count": 66
        }
      ]
    },
    {
      "cell_type": "code",
      "source": [
        "df.mean()"
      ],
      "metadata": {
        "id": "MzcR3De7AxaQ",
        "colab": {
          "base_uri": "https://localhost:8080/"
        },
        "outputId": "1816cb83-b00a-4663-b7bc-a894fa6a99ab"
      },
      "execution_count": null,
      "outputs": [
        {
          "output_type": "execute_result",
          "data": {
            "text/plain": [
              "v.id                500.5000\n",
              "on road old      601648.2860\n",
              "on road now      799131.3970\n",
              "years                 4.5610\n",
              "km               100274.4300\n",
              "rating                2.9880\n",
              "condition             5.5920\n",
              "economy              11.6250\n",
              "top speed           166.8930\n",
              "hp                   84.5460\n",
              "torque              103.4230\n",
              "current price    308520.2425\n",
              "dtype: float64"
            ]
          },
          "metadata": {},
          "execution_count": 67
        }
      ]
    },
    {
      "cell_type": "code",
      "source": [
        "df.std()"
      ],
      "metadata": {
        "id": "38QicOq1A3XF",
        "colab": {
          "base_uri": "https://localhost:8080/"
        },
        "outputId": "c6d737a6-2640-400d-b397-d34051ef4cc8"
      },
      "execution_count": null,
      "outputs": [
        {
          "output_type": "execute_result",
          "data": {
            "text/plain": [
              "v.id                288.819436\n",
              "on road old       58407.246204\n",
              "on road now       57028.950200\n",
              "years                 1.719079\n",
              "km                29150.463233\n",
              "rating                1.402791\n",
              "condition             2.824449\n",
              "economy               2.230549\n",
              "top speed            19.288380\n",
              "hp                   20.516940\n",
              "torque               21.058716\n",
              "current price    126073.259150\n",
              "dtype: float64"
            ]
          },
          "metadata": {},
          "execution_count": 68
        }
      ]
    },
    {
      "cell_type": "code",
      "source": [
        "df.head()"
      ],
      "metadata": {
        "id": "5PcLgbtdA-Wp",
        "colab": {
          "base_uri": "https://localhost:8080/",
          "height": 305
        },
        "outputId": "130a48d3-78cc-43e5-b7ab-5508a4449a43"
      },
      "execution_count": null,
      "outputs": [
        {
          "output_type": "execute_result",
          "data": {
            "text/plain": [
              "   v.id  on road old  on road now  years      km  rating  condition  economy  \\\n",
              "0     1       535651       798186      3   78945       1          2       14   \n",
              "1     2       591911       861056      6  117220       5          9        9   \n",
              "2     3       686990       770762      2  132538       2          8       15   \n",
              "3     4       573999       722381      4  101065       4          3       11   \n",
              "4     5       691388       811335      6   61559       3          9       12   \n",
              "\n",
              "   top speed  hp  torque  current price  \n",
              "0        177  73     123       351318.0  \n",
              "1        148  74      95       285001.5  \n",
              "2        181  53      97       215386.0  \n",
              "3        197  54     116       244295.5  \n",
              "4        160  53     105       531114.5  "
            ],
            "text/html": [
              "\n",
              "\n",
              "  <div id=\"df-30ed878b-c7ce-4cda-a5f2-a7c29f993011\">\n",
              "    <div class=\"colab-df-container\">\n",
              "      <div>\n",
              "<style scoped>\n",
              "    .dataframe tbody tr th:only-of-type {\n",
              "        vertical-align: middle;\n",
              "    }\n",
              "\n",
              "    .dataframe tbody tr th {\n",
              "        vertical-align: top;\n",
              "    }\n",
              "\n",
              "    .dataframe thead th {\n",
              "        text-align: right;\n",
              "    }\n",
              "</style>\n",
              "<table border=\"1\" class=\"dataframe\">\n",
              "  <thead>\n",
              "    <tr style=\"text-align: right;\">\n",
              "      <th></th>\n",
              "      <th>v.id</th>\n",
              "      <th>on road old</th>\n",
              "      <th>on road now</th>\n",
              "      <th>years</th>\n",
              "      <th>km</th>\n",
              "      <th>rating</th>\n",
              "      <th>condition</th>\n",
              "      <th>economy</th>\n",
              "      <th>top speed</th>\n",
              "      <th>hp</th>\n",
              "      <th>torque</th>\n",
              "      <th>current price</th>\n",
              "    </tr>\n",
              "  </thead>\n",
              "  <tbody>\n",
              "    <tr>\n",
              "      <th>0</th>\n",
              "      <td>1</td>\n",
              "      <td>535651</td>\n",
              "      <td>798186</td>\n",
              "      <td>3</td>\n",
              "      <td>78945</td>\n",
              "      <td>1</td>\n",
              "      <td>2</td>\n",
              "      <td>14</td>\n",
              "      <td>177</td>\n",
              "      <td>73</td>\n",
              "      <td>123</td>\n",
              "      <td>351318.0</td>\n",
              "    </tr>\n",
              "    <tr>\n",
              "      <th>1</th>\n",
              "      <td>2</td>\n",
              "      <td>591911</td>\n",
              "      <td>861056</td>\n",
              "      <td>6</td>\n",
              "      <td>117220</td>\n",
              "      <td>5</td>\n",
              "      <td>9</td>\n",
              "      <td>9</td>\n",
              "      <td>148</td>\n",
              "      <td>74</td>\n",
              "      <td>95</td>\n",
              "      <td>285001.5</td>\n",
              "    </tr>\n",
              "    <tr>\n",
              "      <th>2</th>\n",
              "      <td>3</td>\n",
              "      <td>686990</td>\n",
              "      <td>770762</td>\n",
              "      <td>2</td>\n",
              "      <td>132538</td>\n",
              "      <td>2</td>\n",
              "      <td>8</td>\n",
              "      <td>15</td>\n",
              "      <td>181</td>\n",
              "      <td>53</td>\n",
              "      <td>97</td>\n",
              "      <td>215386.0</td>\n",
              "    </tr>\n",
              "    <tr>\n",
              "      <th>3</th>\n",
              "      <td>4</td>\n",
              "      <td>573999</td>\n",
              "      <td>722381</td>\n",
              "      <td>4</td>\n",
              "      <td>101065</td>\n",
              "      <td>4</td>\n",
              "      <td>3</td>\n",
              "      <td>11</td>\n",
              "      <td>197</td>\n",
              "      <td>54</td>\n",
              "      <td>116</td>\n",
              "      <td>244295.5</td>\n",
              "    </tr>\n",
              "    <tr>\n",
              "      <th>4</th>\n",
              "      <td>5</td>\n",
              "      <td>691388</td>\n",
              "      <td>811335</td>\n",
              "      <td>6</td>\n",
              "      <td>61559</td>\n",
              "      <td>3</td>\n",
              "      <td>9</td>\n",
              "      <td>12</td>\n",
              "      <td>160</td>\n",
              "      <td>53</td>\n",
              "      <td>105</td>\n",
              "      <td>531114.5</td>\n",
              "    </tr>\n",
              "  </tbody>\n",
              "</table>\n",
              "</div>\n",
              "      <button class=\"colab-df-convert\" onclick=\"convertToInteractive('df-30ed878b-c7ce-4cda-a5f2-a7c29f993011')\"\n",
              "              title=\"Convert this dataframe to an interactive table.\"\n",
              "              style=\"display:none;\">\n",
              "\n",
              "  <svg xmlns=\"http://www.w3.org/2000/svg\" height=\"24px\"viewBox=\"0 0 24 24\"\n",
              "       width=\"24px\">\n",
              "    <path d=\"M0 0h24v24H0V0z\" fill=\"none\"/>\n",
              "    <path d=\"M18.56 5.44l.94 2.06.94-2.06 2.06-.94-2.06-.94-.94-2.06-.94 2.06-2.06.94zm-11 1L8.5 8.5l.94-2.06 2.06-.94-2.06-.94L8.5 2.5l-.94 2.06-2.06.94zm10 10l.94 2.06.94-2.06 2.06-.94-2.06-.94-.94-2.06-.94 2.06-2.06.94z\"/><path d=\"M17.41 7.96l-1.37-1.37c-.4-.4-.92-.59-1.43-.59-.52 0-1.04.2-1.43.59L10.3 9.45l-7.72 7.72c-.78.78-.78 2.05 0 2.83L4 21.41c.39.39.9.59 1.41.59.51 0 1.02-.2 1.41-.59l7.78-7.78 2.81-2.81c.8-.78.8-2.07 0-2.86zM5.41 20L4 18.59l7.72-7.72 1.47 1.35L5.41 20z\"/>\n",
              "  </svg>\n",
              "      </button>\n",
              "\n",
              "\n",
              "\n",
              "    <div id=\"df-7942e762-94e5-4695-a6b1-632e34003cd6\">\n",
              "      <button class=\"colab-df-quickchart\" onclick=\"quickchart('df-7942e762-94e5-4695-a6b1-632e34003cd6')\"\n",
              "              title=\"Suggest charts.\"\n",
              "              style=\"display:none;\">\n",
              "\n",
              "<svg xmlns=\"http://www.w3.org/2000/svg\" height=\"24px\"viewBox=\"0 0 24 24\"\n",
              "     width=\"24px\">\n",
              "    <g>\n",
              "        <path d=\"M19 3H5c-1.1 0-2 .9-2 2v14c0 1.1.9 2 2 2h14c1.1 0 2-.9 2-2V5c0-1.1-.9-2-2-2zM9 17H7v-7h2v7zm4 0h-2V7h2v10zm4 0h-2v-4h2v4z\"/>\n",
              "    </g>\n",
              "</svg>\n",
              "      </button>\n",
              "    </div>\n",
              "\n",
              "<style>\n",
              "  .colab-df-quickchart {\n",
              "    background-color: #E8F0FE;\n",
              "    border: none;\n",
              "    border-radius: 50%;\n",
              "    cursor: pointer;\n",
              "    display: none;\n",
              "    fill: #1967D2;\n",
              "    height: 32px;\n",
              "    padding: 0 0 0 0;\n",
              "    width: 32px;\n",
              "  }\n",
              "\n",
              "  .colab-df-quickchart:hover {\n",
              "    background-color: #E2EBFA;\n",
              "    box-shadow: 0px 1px 2px rgba(60, 64, 67, 0.3), 0px 1px 3px 1px rgba(60, 64, 67, 0.15);\n",
              "    fill: #174EA6;\n",
              "  }\n",
              "\n",
              "  [theme=dark] .colab-df-quickchart {\n",
              "    background-color: #3B4455;\n",
              "    fill: #D2E3FC;\n",
              "  }\n",
              "\n",
              "  [theme=dark] .colab-df-quickchart:hover {\n",
              "    background-color: #434B5C;\n",
              "    box-shadow: 0px 1px 3px 1px rgba(0, 0, 0, 0.15);\n",
              "    filter: drop-shadow(0px 1px 2px rgba(0, 0, 0, 0.3));\n",
              "    fill: #FFFFFF;\n",
              "  }\n",
              "</style>\n",
              "\n",
              "    <script>\n",
              "      async function quickchart(key) {\n",
              "        const containerElement = document.querySelector('#' + key);\n",
              "        const charts = await google.colab.kernel.invokeFunction(\n",
              "            'suggestCharts', [key], {});\n",
              "      }\n",
              "    </script>\n",
              "\n",
              "      <script>\n",
              "\n",
              "function displayQuickchartButton(domScope) {\n",
              "  let quickchartButtonEl =\n",
              "    domScope.querySelector('#df-7942e762-94e5-4695-a6b1-632e34003cd6 button.colab-df-quickchart');\n",
              "  quickchartButtonEl.style.display =\n",
              "    google.colab.kernel.accessAllowed ? 'block' : 'none';\n",
              "}\n",
              "\n",
              "        displayQuickchartButton(document);\n",
              "      </script>\n",
              "      <style>\n",
              "    .colab-df-container {\n",
              "      display:flex;\n",
              "      flex-wrap:wrap;\n",
              "      gap: 12px;\n",
              "    }\n",
              "\n",
              "    .colab-df-convert {\n",
              "      background-color: #E8F0FE;\n",
              "      border: none;\n",
              "      border-radius: 50%;\n",
              "      cursor: pointer;\n",
              "      display: none;\n",
              "      fill: #1967D2;\n",
              "      height: 32px;\n",
              "      padding: 0 0 0 0;\n",
              "      width: 32px;\n",
              "    }\n",
              "\n",
              "    .colab-df-convert:hover {\n",
              "      background-color: #E2EBFA;\n",
              "      box-shadow: 0px 1px 2px rgba(60, 64, 67, 0.3), 0px 1px 3px 1px rgba(60, 64, 67, 0.15);\n",
              "      fill: #174EA6;\n",
              "    }\n",
              "\n",
              "    [theme=dark] .colab-df-convert {\n",
              "      background-color: #3B4455;\n",
              "      fill: #D2E3FC;\n",
              "    }\n",
              "\n",
              "    [theme=dark] .colab-df-convert:hover {\n",
              "      background-color: #434B5C;\n",
              "      box-shadow: 0px 1px 3px 1px rgba(0, 0, 0, 0.15);\n",
              "      filter: drop-shadow(0px 1px 2px rgba(0, 0, 0, 0.3));\n",
              "      fill: #FFFFFF;\n",
              "    }\n",
              "  </style>\n",
              "\n",
              "      <script>\n",
              "        const buttonEl =\n",
              "          document.querySelector('#df-30ed878b-c7ce-4cda-a5f2-a7c29f993011 button.colab-df-convert');\n",
              "        buttonEl.style.display =\n",
              "          google.colab.kernel.accessAllowed ? 'block' : 'none';\n",
              "\n",
              "        async function convertToInteractive(key) {\n",
              "          const element = document.querySelector('#df-30ed878b-c7ce-4cda-a5f2-a7c29f993011');\n",
              "          const dataTable =\n",
              "            await google.colab.kernel.invokeFunction('convertToInteractive',\n",
              "                                                     [key], {});\n",
              "          if (!dataTable) return;\n",
              "\n",
              "          const docLinkHtml = 'Like what you see? Visit the ' +\n",
              "            '<a target=\"_blank\" href=https://colab.research.google.com/notebooks/data_table.ipynb>data table notebook</a>'\n",
              "            + ' to learn more about interactive tables.';\n",
              "          element.innerHTML = '';\n",
              "          dataTable['output_type'] = 'display_data';\n",
              "          await google.colab.output.renderOutput(dataTable, element);\n",
              "          const docLink = document.createElement('div');\n",
              "          docLink.innerHTML = docLinkHtml;\n",
              "          element.appendChild(docLink);\n",
              "        }\n",
              "      </script>\n",
              "    </div>\n",
              "  </div>\n"
            ]
          },
          "metadata": {},
          "execution_count": 69
        }
      ]
    },
    {
      "cell_type": "code",
      "source": [
        "import seaborn as sns"
      ],
      "metadata": {
        "id": "kInae-EjBBAX"
      },
      "execution_count": null,
      "outputs": []
    },
    {
      "cell_type": "code",
      "source": [
        "df.shape"
      ],
      "metadata": {
        "id": "ndbzeOmhBH1S",
        "colab": {
          "base_uri": "https://localhost:8080/"
        },
        "outputId": "72f93ffc-4030-4447-c55f-2f6761ae526f"
      },
      "execution_count": null,
      "outputs": [
        {
          "output_type": "execute_result",
          "data": {
            "text/plain": [
              "(1000, 12)"
            ]
          },
          "metadata": {},
          "execution_count": 71
        }
      ]
    },
    {
      "cell_type": "code",
      "source": [
        "td=tf.constant(df)\n",
        "print(td)"
      ],
      "metadata": {
        "id": "OwSBnCFEBTrc",
        "colab": {
          "base_uri": "https://localhost:8080/"
        },
        "outputId": "47e14cb8-10f7-4da9-ab7f-a6d37e86391a"
      },
      "execution_count": null,
      "outputs": [
        {
          "output_type": "stream",
          "name": "stdout",
          "text": [
            "tf.Tensor(\n",
            "[[1.000000e+00 5.356510e+05 7.981860e+05 ... 7.300000e+01 1.230000e+02\n",
            "  3.513180e+05]\n",
            " [2.000000e+00 5.919110e+05 8.610560e+05 ... 7.400000e+01 9.500000e+01\n",
            "  2.850015e+05]\n",
            " [3.000000e+00 6.869900e+05 7.707620e+05 ... 5.300000e+01 9.700000e+01\n",
            "  2.153860e+05]\n",
            " ...\n",
            " [9.980000e+02 6.463440e+05 8.427330e+05 ... 1.130000e+02 8.900000e+01\n",
            "  4.058710e+05]\n",
            " [9.990000e+02 5.355590e+05 7.324390e+05 ... 1.120000e+02 1.280000e+02\n",
            "  7.439800e+04]\n",
            " [1.000000e+03 5.901050e+05 7.797430e+05 ... 9.900000e+01 9.600000e+01\n",
            "  4.149385e+05]], shape=(1000, 12), dtype=float64)\n"
          ]
        }
      ]
    },
    {
      "cell_type": "code",
      "source": [
        "td =tf.cast(td,tf.float32)"
      ],
      "metadata": {
        "id": "G9DkrKXBB9tD"
      },
      "execution_count": null,
      "outputs": []
    },
    {
      "cell_type": "code",
      "source": [
        "td"
      ],
      "metadata": {
        "id": "TPUL1D76EeQR",
        "colab": {
          "base_uri": "https://localhost:8080/"
        },
        "outputId": "5ee01732-d388-460d-c540-32694b5b7aac"
      },
      "execution_count": null,
      "outputs": [
        {
          "output_type": "execute_result",
          "data": {
            "text/plain": [
              "<tf.Tensor: shape=(1000, 12), dtype=float32, numpy=\n",
              "array([[1.000000e+00, 5.356510e+05, 7.981860e+05, ..., 7.300000e+01,\n",
              "        1.230000e+02, 3.513180e+05],\n",
              "       [2.000000e+00, 5.919110e+05, 8.610560e+05, ..., 7.400000e+01,\n",
              "        9.500000e+01, 2.850015e+05],\n",
              "       [3.000000e+00, 6.869900e+05, 7.707620e+05, ..., 5.300000e+01,\n",
              "        9.700000e+01, 2.153860e+05],\n",
              "       ...,\n",
              "       [9.980000e+02, 6.463440e+05, 8.427330e+05, ..., 1.130000e+02,\n",
              "        8.900000e+01, 4.058710e+05],\n",
              "       [9.990000e+02, 5.355590e+05, 7.324390e+05, ..., 1.120000e+02,\n",
              "        1.280000e+02, 7.439800e+04],\n",
              "       [1.000000e+03, 5.901050e+05, 7.797430e+05, ..., 9.900000e+01,\n",
              "        9.600000e+01, 4.149385e+05]], dtype=float32)>"
            ]
          },
          "metadata": {},
          "execution_count": 74
        }
      ]
    },
    {
      "cell_type": "code",
      "source": [
        "td =tf.random.shuffle(td)"
      ],
      "metadata": {
        "id": "kx-Oz4oDEn3g"
      },
      "execution_count": null,
      "outputs": []
    },
    {
      "cell_type": "code",
      "source": [
        "td"
      ],
      "metadata": {
        "id": "9A2kEInSFR-1",
        "colab": {
          "base_uri": "https://localhost:8080/"
        },
        "outputId": "b8932348-9686-4a64-b9dc-8713553ae562"
      },
      "execution_count": null,
      "outputs": [
        {
          "output_type": "execute_result",
          "data": {
            "text/plain": [
              "<tf.Tensor: shape=(1000, 12), dtype=float32, numpy=\n",
              "array([[6.980000e+02, 6.031210e+05, 7.905830e+05, ..., 5.900000e+01,\n",
              "        7.100000e+01, 3.197280e+05],\n",
              "       [5.420000e+02, 5.095600e+05, 8.984760e+05, ..., 1.180000e+02,\n",
              "        7.500000e+01, 3.082205e+05],\n",
              "       [3.560000e+02, 6.691460e+05, 8.283520e+05, ..., 9.000000e+01,\n",
              "        1.380000e+02, 2.191270e+05],\n",
              "       ...,\n",
              "       [1.200000e+01, 6.688390e+05, 8.022720e+05, ..., 7.400000e+01,\n",
              "        8.700000e+01, 2.645765e+05],\n",
              "       [7.200000e+02, 6.963530e+05, 7.969720e+05, ..., 6.400000e+01,\n",
              "        1.150000e+02, 5.336105e+05],\n",
              "       [9.080000e+02, 6.237220e+05, 8.885110e+05, ..., 1.120000e+02,\n",
              "        7.500000e+01, 4.135400e+05]], dtype=float32)>"
            ]
          },
          "metadata": {},
          "execution_count": 76
        }
      ]
    },
    {
      "cell_type": "code",
      "source": [
        "td[0:5]"
      ],
      "metadata": {
        "id": "yd0FYdzmFWIr",
        "colab": {
          "base_uri": "https://localhost:8080/"
        },
        "outputId": "4aff3b11-571c-4d9c-d39c-b82ecebd1da3"
      },
      "execution_count": null,
      "outputs": [
        {
          "output_type": "execute_result",
          "data": {
            "text/plain": [
              "<tf.Tensor: shape=(5, 12), dtype=float32, numpy=\n",
              "array([[6.980000e+02, 6.031210e+05, 7.905830e+05, 4.000000e+00,\n",
              "        1.067150e+05, 2.000000e+00, 1.000000e+01, 1.400000e+01,\n",
              "        1.380000e+02, 5.900000e+01, 7.100000e+01, 3.197280e+05],\n",
              "       [5.420000e+02, 5.095600e+05, 8.984760e+05, 7.000000e+00,\n",
              "        9.706100e+04, 4.000000e+00, 3.000000e+00, 8.000000e+00,\n",
              "        1.760000e+02, 1.180000e+02, 7.500000e+01, 3.082205e+05],\n",
              "       [3.560000e+02, 6.691460e+05, 8.283520e+05, 5.000000e+00,\n",
              "        1.320780e+05, 1.000000e+00, 1.000000e+00, 9.000000e+00,\n",
              "        1.940000e+02, 9.000000e+01, 1.380000e+02, 2.191270e+05],\n",
              "       [3.240000e+02, 5.361490e+05, 8.224520e+05, 7.000000e+00,\n",
              "        9.852900e+04, 3.000000e+00, 6.000000e+00, 1.200000e+01,\n",
              "        1.430000e+02, 6.900000e+01, 1.380000e+02, 2.810375e+05],\n",
              "       [9.490000e+02, 5.044480e+05, 8.572360e+05, 2.000000e+00,\n",
              "        1.000910e+05, 3.000000e+00, 5.000000e+00, 1.300000e+01,\n",
              "        1.990000e+02, 5.000000e+01, 1.270000e+02, 2.824185e+05]],\n",
              "      dtype=float32)>"
            ]
          },
          "metadata": {},
          "execution_count": 77
        }
      ]
    },
    {
      "cell_type": "code",
      "source": [
        "X =td[:,3:-1]"
      ],
      "metadata": {
        "id": "ys9Jk4uOJw05"
      },
      "execution_count": null,
      "outputs": []
    },
    {
      "cell_type": "code",
      "source": [
        "df.head()"
      ],
      "metadata": {
        "id": "QHz3rNkjKbKs",
        "colab": {
          "base_uri": "https://localhost:8080/",
          "height": 305
        },
        "outputId": "d90a613c-4ccd-47d0-8216-dadb6de9ea5d"
      },
      "execution_count": null,
      "outputs": [
        {
          "output_type": "execute_result",
          "data": {
            "text/plain": [
              "   v.id  on road old  on road now  years      km  rating  condition  economy  \\\n",
              "0     1       535651       798186      3   78945       1          2       14   \n",
              "1     2       591911       861056      6  117220       5          9        9   \n",
              "2     3       686990       770762      2  132538       2          8       15   \n",
              "3     4       573999       722381      4  101065       4          3       11   \n",
              "4     5       691388       811335      6   61559       3          9       12   \n",
              "\n",
              "   top speed  hp  torque  current price  \n",
              "0        177  73     123       351318.0  \n",
              "1        148  74      95       285001.5  \n",
              "2        181  53      97       215386.0  \n",
              "3        197  54     116       244295.5  \n",
              "4        160  53     105       531114.5  "
            ],
            "text/html": [
              "\n",
              "\n",
              "  <div id=\"df-85045d11-9d4b-4065-8023-b99208d58f14\">\n",
              "    <div class=\"colab-df-container\">\n",
              "      <div>\n",
              "<style scoped>\n",
              "    .dataframe tbody tr th:only-of-type {\n",
              "        vertical-align: middle;\n",
              "    }\n",
              "\n",
              "    .dataframe tbody tr th {\n",
              "        vertical-align: top;\n",
              "    }\n",
              "\n",
              "    .dataframe thead th {\n",
              "        text-align: right;\n",
              "    }\n",
              "</style>\n",
              "<table border=\"1\" class=\"dataframe\">\n",
              "  <thead>\n",
              "    <tr style=\"text-align: right;\">\n",
              "      <th></th>\n",
              "      <th>v.id</th>\n",
              "      <th>on road old</th>\n",
              "      <th>on road now</th>\n",
              "      <th>years</th>\n",
              "      <th>km</th>\n",
              "      <th>rating</th>\n",
              "      <th>condition</th>\n",
              "      <th>economy</th>\n",
              "      <th>top speed</th>\n",
              "      <th>hp</th>\n",
              "      <th>torque</th>\n",
              "      <th>current price</th>\n",
              "    </tr>\n",
              "  </thead>\n",
              "  <tbody>\n",
              "    <tr>\n",
              "      <th>0</th>\n",
              "      <td>1</td>\n",
              "      <td>535651</td>\n",
              "      <td>798186</td>\n",
              "      <td>3</td>\n",
              "      <td>78945</td>\n",
              "      <td>1</td>\n",
              "      <td>2</td>\n",
              "      <td>14</td>\n",
              "      <td>177</td>\n",
              "      <td>73</td>\n",
              "      <td>123</td>\n",
              "      <td>351318.0</td>\n",
              "    </tr>\n",
              "    <tr>\n",
              "      <th>1</th>\n",
              "      <td>2</td>\n",
              "      <td>591911</td>\n",
              "      <td>861056</td>\n",
              "      <td>6</td>\n",
              "      <td>117220</td>\n",
              "      <td>5</td>\n",
              "      <td>9</td>\n",
              "      <td>9</td>\n",
              "      <td>148</td>\n",
              "      <td>74</td>\n",
              "      <td>95</td>\n",
              "      <td>285001.5</td>\n",
              "    </tr>\n",
              "    <tr>\n",
              "      <th>2</th>\n",
              "      <td>3</td>\n",
              "      <td>686990</td>\n",
              "      <td>770762</td>\n",
              "      <td>2</td>\n",
              "      <td>132538</td>\n",
              "      <td>2</td>\n",
              "      <td>8</td>\n",
              "      <td>15</td>\n",
              "      <td>181</td>\n",
              "      <td>53</td>\n",
              "      <td>97</td>\n",
              "      <td>215386.0</td>\n",
              "    </tr>\n",
              "    <tr>\n",
              "      <th>3</th>\n",
              "      <td>4</td>\n",
              "      <td>573999</td>\n",
              "      <td>722381</td>\n",
              "      <td>4</td>\n",
              "      <td>101065</td>\n",
              "      <td>4</td>\n",
              "      <td>3</td>\n",
              "      <td>11</td>\n",
              "      <td>197</td>\n",
              "      <td>54</td>\n",
              "      <td>116</td>\n",
              "      <td>244295.5</td>\n",
              "    </tr>\n",
              "    <tr>\n",
              "      <th>4</th>\n",
              "      <td>5</td>\n",
              "      <td>691388</td>\n",
              "      <td>811335</td>\n",
              "      <td>6</td>\n",
              "      <td>61559</td>\n",
              "      <td>3</td>\n",
              "      <td>9</td>\n",
              "      <td>12</td>\n",
              "      <td>160</td>\n",
              "      <td>53</td>\n",
              "      <td>105</td>\n",
              "      <td>531114.5</td>\n",
              "    </tr>\n",
              "  </tbody>\n",
              "</table>\n",
              "</div>\n",
              "      <button class=\"colab-df-convert\" onclick=\"convertToInteractive('df-85045d11-9d4b-4065-8023-b99208d58f14')\"\n",
              "              title=\"Convert this dataframe to an interactive table.\"\n",
              "              style=\"display:none;\">\n",
              "\n",
              "  <svg xmlns=\"http://www.w3.org/2000/svg\" height=\"24px\"viewBox=\"0 0 24 24\"\n",
              "       width=\"24px\">\n",
              "    <path d=\"M0 0h24v24H0V0z\" fill=\"none\"/>\n",
              "    <path d=\"M18.56 5.44l.94 2.06.94-2.06 2.06-.94-2.06-.94-.94-2.06-.94 2.06-2.06.94zm-11 1L8.5 8.5l.94-2.06 2.06-.94-2.06-.94L8.5 2.5l-.94 2.06-2.06.94zm10 10l.94 2.06.94-2.06 2.06-.94-2.06-.94-.94-2.06-.94 2.06-2.06.94z\"/><path d=\"M17.41 7.96l-1.37-1.37c-.4-.4-.92-.59-1.43-.59-.52 0-1.04.2-1.43.59L10.3 9.45l-7.72 7.72c-.78.78-.78 2.05 0 2.83L4 21.41c.39.39.9.59 1.41.59.51 0 1.02-.2 1.41-.59l7.78-7.78 2.81-2.81c.8-.78.8-2.07 0-2.86zM5.41 20L4 18.59l7.72-7.72 1.47 1.35L5.41 20z\"/>\n",
              "  </svg>\n",
              "      </button>\n",
              "\n",
              "\n",
              "\n",
              "    <div id=\"df-f3689b5c-5a64-49ff-aeaa-b1431ac2d6ed\">\n",
              "      <button class=\"colab-df-quickchart\" onclick=\"quickchart('df-f3689b5c-5a64-49ff-aeaa-b1431ac2d6ed')\"\n",
              "              title=\"Suggest charts.\"\n",
              "              style=\"display:none;\">\n",
              "\n",
              "<svg xmlns=\"http://www.w3.org/2000/svg\" height=\"24px\"viewBox=\"0 0 24 24\"\n",
              "     width=\"24px\">\n",
              "    <g>\n",
              "        <path d=\"M19 3H5c-1.1 0-2 .9-2 2v14c0 1.1.9 2 2 2h14c1.1 0 2-.9 2-2V5c0-1.1-.9-2-2-2zM9 17H7v-7h2v7zm4 0h-2V7h2v10zm4 0h-2v-4h2v4z\"/>\n",
              "    </g>\n",
              "</svg>\n",
              "      </button>\n",
              "    </div>\n",
              "\n",
              "<style>\n",
              "  .colab-df-quickchart {\n",
              "    background-color: #E8F0FE;\n",
              "    border: none;\n",
              "    border-radius: 50%;\n",
              "    cursor: pointer;\n",
              "    display: none;\n",
              "    fill: #1967D2;\n",
              "    height: 32px;\n",
              "    padding: 0 0 0 0;\n",
              "    width: 32px;\n",
              "  }\n",
              "\n",
              "  .colab-df-quickchart:hover {\n",
              "    background-color: #E2EBFA;\n",
              "    box-shadow: 0px 1px 2px rgba(60, 64, 67, 0.3), 0px 1px 3px 1px rgba(60, 64, 67, 0.15);\n",
              "    fill: #174EA6;\n",
              "  }\n",
              "\n",
              "  [theme=dark] .colab-df-quickchart {\n",
              "    background-color: #3B4455;\n",
              "    fill: #D2E3FC;\n",
              "  }\n",
              "\n",
              "  [theme=dark] .colab-df-quickchart:hover {\n",
              "    background-color: #434B5C;\n",
              "    box-shadow: 0px 1px 3px 1px rgba(0, 0, 0, 0.15);\n",
              "    filter: drop-shadow(0px 1px 2px rgba(0, 0, 0, 0.3));\n",
              "    fill: #FFFFFF;\n",
              "  }\n",
              "</style>\n",
              "\n",
              "    <script>\n",
              "      async function quickchart(key) {\n",
              "        const containerElement = document.querySelector('#' + key);\n",
              "        const charts = await google.colab.kernel.invokeFunction(\n",
              "            'suggestCharts', [key], {});\n",
              "      }\n",
              "    </script>\n",
              "\n",
              "      <script>\n",
              "\n",
              "function displayQuickchartButton(domScope) {\n",
              "  let quickchartButtonEl =\n",
              "    domScope.querySelector('#df-f3689b5c-5a64-49ff-aeaa-b1431ac2d6ed button.colab-df-quickchart');\n",
              "  quickchartButtonEl.style.display =\n",
              "    google.colab.kernel.accessAllowed ? 'block' : 'none';\n",
              "}\n",
              "\n",
              "        displayQuickchartButton(document);\n",
              "      </script>\n",
              "      <style>\n",
              "    .colab-df-container {\n",
              "      display:flex;\n",
              "      flex-wrap:wrap;\n",
              "      gap: 12px;\n",
              "    }\n",
              "\n",
              "    .colab-df-convert {\n",
              "      background-color: #E8F0FE;\n",
              "      border: none;\n",
              "      border-radius: 50%;\n",
              "      cursor: pointer;\n",
              "      display: none;\n",
              "      fill: #1967D2;\n",
              "      height: 32px;\n",
              "      padding: 0 0 0 0;\n",
              "      width: 32px;\n",
              "    }\n",
              "\n",
              "    .colab-df-convert:hover {\n",
              "      background-color: #E2EBFA;\n",
              "      box-shadow: 0px 1px 2px rgba(60, 64, 67, 0.3), 0px 1px 3px 1px rgba(60, 64, 67, 0.15);\n",
              "      fill: #174EA6;\n",
              "    }\n",
              "\n",
              "    [theme=dark] .colab-df-convert {\n",
              "      background-color: #3B4455;\n",
              "      fill: #D2E3FC;\n",
              "    }\n",
              "\n",
              "    [theme=dark] .colab-df-convert:hover {\n",
              "      background-color: #434B5C;\n",
              "      box-shadow: 0px 1px 3px 1px rgba(0, 0, 0, 0.15);\n",
              "      filter: drop-shadow(0px 1px 2px rgba(0, 0, 0, 0.3));\n",
              "      fill: #FFFFFF;\n",
              "    }\n",
              "  </style>\n",
              "\n",
              "      <script>\n",
              "        const buttonEl =\n",
              "          document.querySelector('#df-85045d11-9d4b-4065-8023-b99208d58f14 button.colab-df-convert');\n",
              "        buttonEl.style.display =\n",
              "          google.colab.kernel.accessAllowed ? 'block' : 'none';\n",
              "\n",
              "        async function convertToInteractive(key) {\n",
              "          const element = document.querySelector('#df-85045d11-9d4b-4065-8023-b99208d58f14');\n",
              "          const dataTable =\n",
              "            await google.colab.kernel.invokeFunction('convertToInteractive',\n",
              "                                                     [key], {});\n",
              "          if (!dataTable) return;\n",
              "\n",
              "          const docLinkHtml = 'Like what you see? Visit the ' +\n",
              "            '<a target=\"_blank\" href=https://colab.research.google.com/notebooks/data_table.ipynb>data table notebook</a>'\n",
              "            + ' to learn more about interactive tables.';\n",
              "          element.innerHTML = '';\n",
              "          dataTable['output_type'] = 'display_data';\n",
              "          await google.colab.output.renderOutput(dataTable, element);\n",
              "          const docLink = document.createElement('div');\n",
              "          docLink.innerHTML = docLinkHtml;\n",
              "          element.appendChild(docLink);\n",
              "        }\n",
              "      </script>\n",
              "    </div>\n",
              "  </div>\n"
            ]
          },
          "metadata": {},
          "execution_count": 79
        }
      ]
    },
    {
      "cell_type": "code",
      "source": [
        "y=td[:,-1]"
      ],
      "metadata": {
        "id": "RMpGg-_WlUMN"
      },
      "execution_count": null,
      "outputs": []
    },
    {
      "cell_type": "code",
      "source": [],
      "metadata": {
        "id": "4Zh-JyMWmVs3"
      },
      "execution_count": null,
      "outputs": []
    },
    {
      "cell_type": "code",
      "source": [
        "from tensorflow.keras.layers import Normalization"
      ],
      "metadata": {
        "id": "x6ogCyEom3so"
      },
      "execution_count": null,
      "outputs": []
    },
    {
      "cell_type": "code",
      "source": [
        "print(y[:5])"
      ],
      "metadata": {
        "id": "oQBita7h1Nq5",
        "colab": {
          "base_uri": "https://localhost:8080/"
        },
        "outputId": "4f91cfa9-aa05-4189-9bf5-a10b217a957c"
      },
      "execution_count": null,
      "outputs": [
        {
          "output_type": "stream",
          "name": "stdout",
          "text": [
            "tf.Tensor([319728.  308220.5 219127.  281037.5 282418.5], shape=(5,), dtype=float32)\n"
          ]
        }
      ]
    },
    {
      "cell_type": "code",
      "source": [
        "y =tf.expand_dims(y,axis =-1)"
      ],
      "metadata": {
        "id": "nCL5Dcb-1SfS"
      },
      "execution_count": null,
      "outputs": []
    },
    {
      "cell_type": "code",
      "source": [
        "y[:5]"
      ],
      "metadata": {
        "id": "eOOmK-PY1oK7",
        "colab": {
          "base_uri": "https://localhost:8080/"
        },
        "outputId": "c1768718-2d1e-4bac-b15c-b524b4704649"
      },
      "execution_count": null,
      "outputs": [
        {
          "output_type": "execute_result",
          "data": {
            "text/plain": [
              "<tf.Tensor: shape=(5, 1), dtype=float32, numpy=\n",
              "array([[319728. ],\n",
              "       [308220.5],\n",
              "       [219127. ],\n",
              "       [281037.5],\n",
              "       [282418.5]], dtype=float32)>"
            ]
          },
          "metadata": {},
          "execution_count": 84
        }
      ]
    },
    {
      "cell_type": "code",
      "source": [
        "train_size=0.8\n",
        "test_size=0.1\n",
        "val_size=0.1\n",
        "df_size=len(X)\n"
      ],
      "metadata": {
        "id": "V6XbkAB5WqNn"
      },
      "execution_count": null,
      "outputs": []
    },
    {
      "cell_type": "code",
      "source": [
        "X_train =X[:int(df_size*train_size)]\n",
        "y_train =y[:int(df_size*train_size)]\n",
        "print(X_train.shape)\n",
        "print(y_train.shape)\n",
        "\n"
      ],
      "metadata": {
        "id": "v_5EeRs7WqeX",
        "colab": {
          "base_uri": "https://localhost:8080/"
        },
        "outputId": "74f79bf4-3144-4a73-be47-33bb0b62d8b8"
      },
      "execution_count": null,
      "outputs": [
        {
          "output_type": "stream",
          "name": "stdout",
          "text": [
            "(800, 8)\n",
            "(800, 1)\n"
          ]
        }
      ]
    },
    {
      "cell_type": "code",
      "source": [
        "X_val=X[int(df_size*train_size):int(df_size*(train_size+val_size))]\n",
        "y_val=y[int(df_size*train_size):int(df_size*(train_size+val_size))]\n",
        "print(X_val.shape)\n",
        "print(y_val.shape)"
      ],
      "metadata": {
        "id": "q8SA3GVCcBOp",
        "colab": {
          "base_uri": "https://localhost:8080/"
        },
        "outputId": "c933bccb-49e6-4651-c301-37ce3f8d3be8"
      },
      "execution_count": null,
      "outputs": [
        {
          "output_type": "stream",
          "name": "stdout",
          "text": [
            "(100, 8)\n",
            "(100, 1)\n"
          ]
        }
      ]
    },
    {
      "cell_type": "code",
      "source": [
        "X_test=X[int(df_size*(train_size+val_size)):]\n",
        "y_test=y[int(df_size*(train_size+val_size)):]\n",
        "print(X_test.shape)\n",
        "print(y_test.shape)"
      ],
      "metadata": {
        "id": "VntfJRhqvV0r",
        "colab": {
          "base_uri": "https://localhost:8080/"
        },
        "outputId": "f47d132e-9308-475f-9cb8-436c26ae1208"
      },
      "execution_count": null,
      "outputs": [
        {
          "output_type": "stream",
          "name": "stdout",
          "text": [
            "(100, 8)\n",
            "(100, 1)\n"
          ]
        }
      ]
    },
    {
      "cell_type": "code",
      "source": [
        "# normalizer =Normalization(mean=5,variance=4)\n",
        "# x_normalized=tf.constant([[3,4,5,6],\n",
        "#                          [7,8,9,1]])\n",
        "# # print(normalizer(x_normalized))"
      ],
      "metadata": {
        "id": "WSHmgevy1ots"
      },
      "execution_count": null,
      "outputs": []
    },
    {
      "cell_type": "code",
      "source": [
        "# normalization =x-u/sigma"
      ],
      "metadata": {
        "id": "ZTcBH1gS6Lci"
      },
      "execution_count": null,
      "outputs": []
    },
    {
      "cell_type": "code",
      "source": [
        "# normalizer =Normalization()\n",
        "# x_normalized=tf.constant([[3,4,5,6],\n",
        "#                          [7,8,9,1],\n",
        "#                           [3,5,6,7]])\n",
        "# normalizer.adapt(x_normalized)\n",
        "# print(normalizer(x_normalized))"
      ],
      "metadata": {
        "id": "IUQSc-y4vYbC"
      },
      "execution_count": null,
      "outputs": []
    },
    {
      "cell_type": "code",
      "source": [
        "print(X.shape)"
      ],
      "metadata": {
        "id": "yplUKlq4x0Wv",
        "colab": {
          "base_uri": "https://localhost:8080/"
        },
        "outputId": "cede537f-aa20-4725-e389-439804c9c1dc"
      },
      "execution_count": null,
      "outputs": [
        {
          "output_type": "stream",
          "name": "stdout",
          "text": [
            "(1000, 8)\n"
          ]
        }
      ]
    },
    {
      "cell_type": "code",
      "source": [
        "normalizer =Normalization()\n",
        "normalizer.adapt(X_train)\n",
        "normalizer(X_train)[:5]"
      ],
      "metadata": {
        "id": "WTEHIZ36zHV_",
        "colab": {
          "base_uri": "https://localhost:8080/"
        },
        "outputId": "0bb71d75-6df0-460d-d802-aa0d08d9dadf"
      },
      "execution_count": null,
      "outputs": [
        {
          "output_type": "execute_result",
          "data": {
            "text/plain": [
              "<tf.Tensor: shape=(5, 8), dtype=float32, numpy=\n",
              "array([[-0.34441376,  0.22372797, -0.69522023,  1.5818572 ,  1.0575582 ,\n",
              "        -1.5322121 , -1.2241406 , -1.5341603 ],\n",
              "       [ 1.4105654 , -0.10713801,  0.71998656, -0.9198088 , -1.6397197 ,\n",
              "         0.47180036,  1.6165394 , -1.3446261 ],\n",
              "       [ 0.24057929,  1.0929794 , -1.4028237 , -1.6345706 , -1.1901735 ,\n",
              "         1.4210694 ,  0.26842004,  1.640536  ],\n",
              "       [ 1.4105654 , -0.05682609,  0.01238317,  0.15233375,  0.15846549,\n",
              "        -1.2685262 , -0.74266946,  1.640536  ],\n",
              "       [-1.5143999 , -0.00329256,  0.01238317, -0.2050471 ,  0.6080118 ,\n",
              "         1.6847553 , -1.6574647 ,  1.1193172 ]], dtype=float32)>"
            ]
          },
          "metadata": {},
          "execution_count": 93
        }
      ]
    },
    {
      "cell_type": "code",
      "source": [
        "#model"
      ],
      "metadata": {
        "id": "QYX3Mb3azOVm"
      },
      "execution_count": null,
      "outputs": []
    },
    {
      "cell_type": "code",
      "source": [],
      "metadata": {
        "id": "-OfmxlaIYefL"
      },
      "execution_count": null,
      "outputs": []
    },
    {
      "cell_type": "code",
      "source": [
        "model =tf.keras.Sequential([\n",
        "    InputLayer(input_shape=(8,)),\n",
        "    normalizer,\n",
        "    Dense(128,activation ='relu'),\n",
        "    Dense(128,activation ='relu'),\n",
        "    Dense(128,activation ='relu'),\n",
        "    Dense(1),\n",
        "])\n",
        " #we just want one output current price therfore dense(1)"
      ],
      "metadata": {
        "id": "6LjikwIL1eeF"
      },
      "execution_count": null,
      "outputs": []
    },
    {
      "cell_type": "code",
      "source": [
        "model.summary()"
      ],
      "metadata": {
        "id": "CjFUo5vh16nV",
        "colab": {
          "base_uri": "https://localhost:8080/"
        },
        "outputId": "d5f21af1-ef96-426f-87b6-24db7e65eb97"
      },
      "execution_count": null,
      "outputs": [
        {
          "output_type": "stream",
          "name": "stdout",
          "text": [
            "Model: \"sequential\"\n",
            "_________________________________________________________________\n",
            " Layer (type)                Output Shape              Param #   \n",
            "=================================================================\n",
            " normalization (Normalizatio  (None, 8)                17        \n",
            " n)                                                              \n",
            "                                                                 \n",
            " dense (Dense)               (None, 128)               1152      \n",
            "                                                                 \n",
            " dense_1 (Dense)             (None, 128)               16512     \n",
            "                                                                 \n",
            " dense_2 (Dense)             (None, 128)               16512     \n",
            "                                                                 \n",
            " dense_3 (Dense)             (None, 1)                 129       \n",
            "                                                                 \n",
            "=================================================================\n",
            "Total params: 34,322\n",
            "Trainable params: 34,305\n",
            "Non-trainable params: 17\n",
            "_________________________________________________________________\n"
          ]
        }
      ]
    },
    {
      "cell_type": "code",
      "source": [
        "tf.keras.utils.plot_model(model,to_file =\"model.png\",show_shapes=True)"
      ],
      "metadata": {
        "id": "x4EfVLpc1-RB",
        "colab": {
          "base_uri": "https://localhost:8080/",
          "height": 644
        },
        "outputId": "2d19e152-b76f-4e21-c522-7eae7ac2bf77"
      },
      "execution_count": null,
      "outputs": [
        {
          "output_type": "execute_result",
          "data": {
            "image/png": "[encoded data removed]",
            "text/plain": [
              "<IPython.core.display.Image object>"
            ]
          },
          "metadata": {},
          "execution_count": 97
        }
      ]
    },
    {
      "cell_type": "code",
      "source": [
        "from tensorflow.keras.losses import MeanSquaredError"
      ],
      "metadata": {
        "id": "ATZMRKxlY4SD"
      },
      "execution_count": null,
      "outputs": []
    },
    {
      "cell_type": "code",
      "source": [
        "\n"
      ],
      "metadata": {
        "id": "zAteiLw5FMpc"
      },
      "execution_count": null,
      "outputs": []
    },
    {
      "cell_type": "code",
      "source": [
        " #calculating loss"
      ],
      "metadata": {
        "id": "vKTII5GgH07V"
      },
      "execution_count": null,
      "outputs": []
    },
    {
      "cell_type": "code",
      "source": [
        "model.compile(optimizer =Adam(learning_rate=0.1),loss =MeanAbsoluteError(),metrics=RootMeanSquaredError())"
      ],
      "metadata": {
        "id": "4t8bpN9GDm1-"
      },
      "execution_count": null,
      "outputs": []
    },
    {
      "cell_type": "code",
      "source": [
        "history =model.fit(X_train,y_train, validation_data=(X_val,y_val) ,epochs=100,verbose=1)"
      ],
      "metadata": {
        "id": "9EB2Qtr4Jqpr",
        "colab": {
          "base_uri": "https://localhost:8080/"
        },
        "outputId": "9f81549e-58d1-42e7-f0bd-a7a9ea2fd4c5"
      },
      "execution_count": null,
      "outputs": [
        {
          "output_type": "stream",
          "name": "stdout",
          "text": [
            "Epoch 1/100\n",
            "25/25 [==============================] - 2s 14ms/step - loss: 161240.1562 - root_mean_squared_error: 212095.8281 - val_loss: 83507.6172 - val_root_mean_squared_error: 96877.1641\n",
            "Epoch 2/100\n",
            "25/25 [==============================] - 0s 4ms/step - loss: 54417.2656 - root_mean_squared_error: 67270.9922 - val_loss: 42357.8398 - val_root_mean_squared_error: 53484.2148\n",
            "Epoch 3/100\n",
            "25/25 [==============================] - 0s 5ms/step - loss: 46318.5195 - root_mean_squared_error: 58158.6328 - val_loss: 44588.8633 - val_root_mean_squared_error: 54082.5547\n",
            "Epoch 4/100\n",
            "25/25 [==============================] - 0s 4ms/step - loss: 40678.3359 - root_mean_squared_error: 50838.6836 - val_loss: 36224.8086 - val_root_mean_squared_error: 44801.5859\n",
            "Epoch 5/100\n",
            "25/25 [==============================] - 0s 4ms/step - loss: 39529.0195 - root_mean_squared_error: 49408.7969 - val_loss: 37983.5156 - val_root_mean_squared_error: 46778.1055\n",
            "Epoch 6/100\n",
            "25/25 [==============================] - 0s 4ms/step - loss: 43715.5938 - root_mean_squared_error: 54539.2656 - val_loss: 35818.5742 - val_root_mean_squared_error: 43788.0703\n",
            "Epoch 7/100\n",
            "25/25 [==============================] - 0s 4ms/step - loss: 39271.9141 - root_mean_squared_error: 49255.6758 - val_loss: 36566.7109 - val_root_mean_squared_error: 44668.8555\n",
            "Epoch 8/100\n",
            "25/25 [==============================] - 0s 5ms/step - loss: 39864.0820 - root_mean_squared_error: 50375.0781 - val_loss: 39837.5312 - val_root_mean_squared_error: 48025.6055\n",
            "Epoch 9/100\n",
            "25/25 [==============================] - 0s 4ms/step - loss: 43771.1055 - root_mean_squared_error: 54891.0547 - val_loss: 42662.2539 - val_root_mean_squared_error: 51982.7305\n",
            "Epoch 10/100\n",
            "25/25 [==============================] - 0s 5ms/step - loss: 43937.8203 - root_mean_squared_error: 54098.0742 - val_loss: 40646.2344 - val_root_mean_squared_error: 49341.8945\n",
            "Epoch 11/100\n",
            "25/25 [==============================] - 0s 5ms/step - loss: 38150.4766 - root_mean_squared_error: 47754.5859 - val_loss: 37272.9883 - val_root_mean_squared_error: 46402.9805\n",
            "Epoch 12/100\n",
            "25/25 [==============================] - 0s 4ms/step - loss: 39132.1875 - root_mean_squared_error: 48526.1680 - val_loss: 42877.2383 - val_root_mean_squared_error: 53428.3789\n",
            "Epoch 13/100\n",
            "25/25 [==============================] - 0s 4ms/step - loss: 38996.8711 - root_mean_squared_error: 49246.2656 - val_loss: 38246.1055 - val_root_mean_squared_error: 45761.6367\n",
            "Epoch 14/100\n",
            "25/25 [==============================] - 0s 5ms/step - loss: 38300.9688 - root_mean_squared_error: 48109.1953 - val_loss: 48608.2969 - val_root_mean_squared_error: 59597.6719\n",
            "Epoch 15/100\n",
            "25/25 [==============================] - 0s 5ms/step - loss: 41863.2617 - root_mean_squared_error: 52568.7695 - val_loss: 46826.3398 - val_root_mean_squared_error: 56125.1602\n",
            "Epoch 16/100\n",
            "25/25 [==============================] - 0s 5ms/step - loss: 37385.6094 - root_mean_squared_error: 47201.0273 - val_loss: 39695.7227 - val_root_mean_squared_error: 48661.2656\n",
            "Epoch 17/100\n",
            "25/25 [==============================] - 0s 5ms/step - loss: 38631.6484 - root_mean_squared_error: 48215.3203 - val_loss: 37659.2891 - val_root_mean_squared_error: 48030.6523\n",
            "Epoch 18/100\n",
            "25/25 [==============================] - 0s 6ms/step - loss: 36802.9219 - root_mean_squared_error: 45898.5195 - val_loss: 37482.2656 - val_root_mean_squared_error: 46889.5938\n",
            "Epoch 19/100\n",
            "25/25 [==============================] - 0s 4ms/step - loss: 35579.8711 - root_mean_squared_error: 43670.9453 - val_loss: 35623.6094 - val_root_mean_squared_error: 44385.0625\n",
            "Epoch 20/100\n",
            "25/25 [==============================] - 0s 4ms/step - loss: 37257.4141 - root_mean_squared_error: 45998.2891 - val_loss: 35507.4492 - val_root_mean_squared_error: 43602.3516\n",
            "Epoch 21/100\n",
            "25/25 [==============================] - 0s 4ms/step - loss: 36623.5430 - root_mean_squared_error: 45584.1133 - val_loss: 42686.4492 - val_root_mean_squared_error: 52986.2500\n",
            "Epoch 22/100\n",
            "25/25 [==============================] - 0s 5ms/step - loss: 37314.6328 - root_mean_squared_error: 46258.0430 - val_loss: 33549.6641 - val_root_mean_squared_error: 41172.2422\n",
            "Epoch 23/100\n",
            "25/25 [==============================] - 0s 5ms/step - loss: 36027.0312 - root_mean_squared_error: 44676.5156 - val_loss: 46041.8398 - val_root_mean_squared_error: 55776.2773\n",
            "Epoch 24/100\n",
            "25/25 [==============================] - 0s 5ms/step - loss: 38239.2188 - root_mean_squared_error: 48790.3555 - val_loss: 45416.0000 - val_root_mean_squared_error: 56644.7461\n",
            "Epoch 25/100\n",
            "25/25 [==============================] - 0s 5ms/step - loss: 36875.8320 - root_mean_squared_error: 45749.7578 - val_loss: 36500.6172 - val_root_mean_squared_error: 45947.9844\n",
            "Epoch 26/100\n",
            "25/25 [==============================] - 0s 5ms/step - loss: 38663.8359 - root_mean_squared_error: 47978.8633 - val_loss: 39512.7305 - val_root_mean_squared_error: 48613.3594\n",
            "Epoch 27/100\n",
            "25/25 [==============================] - 0s 4ms/step - loss: 37227.8984 - root_mean_squared_error: 46622.8789 - val_loss: 35478.0547 - val_root_mean_squared_error: 43354.4492\n",
            "Epoch 28/100\n",
            "25/25 [==============================] - 0s 5ms/step - loss: 34040.5664 - root_mean_squared_error: 42566.8477 - val_loss: 37336.1328 - val_root_mean_squared_error: 47888.0859\n",
            "Epoch 29/100\n",
            "25/25 [==============================] - 0s 5ms/step - loss: 36923.7656 - root_mean_squared_error: 46134.1094 - val_loss: 36693.7344 - val_root_mean_squared_error: 44892.6680\n",
            "Epoch 30/100\n",
            "25/25 [==============================] - 0s 5ms/step - loss: 39306.1836 - root_mean_squared_error: 48709.8945 - val_loss: 42222.6445 - val_root_mean_squared_error: 52752.9297\n",
            "Epoch 31/100\n",
            "25/25 [==============================] - 0s 4ms/step - loss: 34484.8984 - root_mean_squared_error: 42905.7070 - val_loss: 34105.1367 - val_root_mean_squared_error: 42285.7695\n",
            "Epoch 32/100\n",
            "25/25 [==============================] - 0s 4ms/step - loss: 50237.8008 - root_mean_squared_error: 62481.3594 - val_loss: 40396.4023 - val_root_mean_squared_error: 49913.0781\n",
            "Epoch 33/100\n",
            "25/25 [==============================] - 0s 5ms/step - loss: 43008.9258 - root_mean_squared_error: 54484.3594 - val_loss: 49473.4688 - val_root_mean_squared_error: 61011.8711\n",
            "Epoch 34/100\n",
            "25/25 [==============================] - 0s 4ms/step - loss: 36915.1953 - root_mean_squared_error: 46184.1680 - val_loss: 39065.4375 - val_root_mean_squared_error: 47587.6211\n",
            "Epoch 35/100\n",
            "25/25 [==============================] - 0s 4ms/step - loss: 37516.6250 - root_mean_squared_error: 46944.2539 - val_loss: 45835.9453 - val_root_mean_squared_error: 57787.6484\n",
            "Epoch 36/100\n",
            "25/25 [==============================] - 0s 4ms/step - loss: 39893.0312 - root_mean_squared_error: 50167.7070 - val_loss: 35065.3867 - val_root_mean_squared_error: 42817.7148\n",
            "Epoch 37/100\n",
            "25/25 [==============================] - 0s 4ms/step - loss: 35614.4219 - root_mean_squared_error: 44083.7891 - val_loss: 37075.3438 - val_root_mean_squared_error: 45700.2891\n",
            "Epoch 38/100\n",
            "25/25 [==============================] - 0s 5ms/step - loss: 38286.8438 - root_mean_squared_error: 47663.9727 - val_loss: 35383.9258 - val_root_mean_squared_error: 43570.1914\n",
            "Epoch 39/100\n",
            "25/25 [==============================] - 0s 4ms/step - loss: 33962.4141 - root_mean_squared_error: 42983.2930 - val_loss: 38269.1016 - val_root_mean_squared_error: 47818.3164\n",
            "Epoch 40/100\n",
            "25/25 [==============================] - 0s 4ms/step - loss: 35589.7891 - root_mean_squared_error: 44475.7578 - val_loss: 37889.8672 - val_root_mean_squared_error: 48092.9297\n",
            "Epoch 41/100\n",
            "25/25 [==============================] - 0s 5ms/step - loss: 35341.0703 - root_mean_squared_error: 43537.9609 - val_loss: 37415.0664 - val_root_mean_squared_error: 47189.4102\n",
            "Epoch 42/100\n",
            "25/25 [==============================] - 0s 5ms/step - loss: 35378.2070 - root_mean_squared_error: 44480.3047 - val_loss: 34380.8828 - val_root_mean_squared_error: 43286.4570\n",
            "Epoch 43/100\n",
            "25/25 [==============================] - 0s 5ms/step - loss: 36055.9570 - root_mean_squared_error: 44610.6328 - val_loss: 36611.0273 - val_root_mean_squared_error: 45070.3320\n",
            "Epoch 44/100\n",
            "25/25 [==============================] - 0s 4ms/step - loss: 36189.2031 - root_mean_squared_error: 44996.9531 - val_loss: 51282.1016 - val_root_mean_squared_error: 62268.0742\n",
            "Epoch 45/100\n",
            "25/25 [==============================] - 0s 4ms/step - loss: 38817.6367 - root_mean_squared_error: 49381.9453 - val_loss: 36985.6914 - val_root_mean_squared_error: 46626.6758\n",
            "Epoch 46/100\n",
            "25/25 [==============================] - 0s 5ms/step - loss: 40623.1797 - root_mean_squared_error: 51016.9688 - val_loss: 34933.6719 - val_root_mean_squared_error: 43808.6289\n",
            "Epoch 47/100\n",
            "25/25 [==============================] - 0s 5ms/step - loss: 41757.2617 - root_mean_squared_error: 53081.8867 - val_loss: 41756.2500 - val_root_mean_squared_error: 52110.9414\n",
            "Epoch 48/100\n",
            "25/25 [==============================] - 0s 4ms/step - loss: 37484.5859 - root_mean_squared_error: 46734.4922 - val_loss: 44377.4141 - val_root_mean_squared_error: 54026.6562\n",
            "Epoch 49/100\n",
            "25/25 [==============================] - 0s 4ms/step - loss: 37104.4219 - root_mean_squared_error: 46257.9531 - val_loss: 38598.3203 - val_root_mean_squared_error: 48975.6250\n",
            "Epoch 50/100\n",
            "25/25 [==============================] - 0s 5ms/step - loss: 35664.2109 - root_mean_squared_error: 44292.8945 - val_loss: 41687.2031 - val_root_mean_squared_error: 53067.6016\n",
            "Epoch 51/100\n",
            "25/25 [==============================] - 0s 5ms/step - loss: 34923.8789 - root_mean_squared_error: 44106.2500 - val_loss: 39663.7734 - val_root_mean_squared_error: 49699.1953\n",
            "Epoch 52/100\n",
            "25/25 [==============================] - 0s 5ms/step - loss: 36869.8516 - root_mean_squared_error: 46446.8438 - val_loss: 38457.2109 - val_root_mean_squared_error: 48438.5664\n",
            "Epoch 53/100\n",
            "25/25 [==============================] - 0s 5ms/step - loss: 34107.3438 - root_mean_squared_error: 42413.3750 - val_loss: 35623.8320 - val_root_mean_squared_error: 43714.0938\n",
            "Epoch 54/100\n",
            "25/25 [==============================] - 0s 5ms/step - loss: 36743.3320 - root_mean_squared_error: 45586.5078 - val_loss: 44851.0938 - val_root_mean_squared_error: 54277.1172\n",
            "Epoch 55/100\n",
            "25/25 [==============================] - 0s 4ms/step - loss: 38284.3516 - root_mean_squared_error: 47969.2969 - val_loss: 39373.4648 - val_root_mean_squared_error: 47946.7109\n",
            "Epoch 56/100\n",
            "25/25 [==============================] - 0s 5ms/step - loss: 34993.6211 - root_mean_squared_error: 43564.4727 - val_loss: 36596.9375 - val_root_mean_squared_error: 45817.6289\n",
            "Epoch 57/100\n",
            "25/25 [==============================] - 0s 4ms/step - loss: 33762.4961 - root_mean_squared_error: 42439.0508 - val_loss: 41728.3711 - val_root_mean_squared_error: 51364.5117\n",
            "Epoch 58/100\n",
            "25/25 [==============================] - 0s 4ms/step - loss: 33188.7734 - root_mean_squared_error: 41372.8398 - val_loss: 35632.6719 - val_root_mean_squared_error: 44113.9453\n",
            "Epoch 59/100\n",
            "25/25 [==============================] - 0s 4ms/step - loss: 33494.4844 - root_mean_squared_error: 42008.2656 - val_loss: 36151.7695 - val_root_mean_squared_error: 44524.2812\n",
            "Epoch 60/100\n",
            "25/25 [==============================] - 0s 6ms/step - loss: 33999.2578 - root_mean_squared_error: 42683.9297 - val_loss: 35160.6367 - val_root_mean_squared_error: 43426.7969\n",
            "Epoch 61/100\n",
            "25/25 [==============================] - 0s 6ms/step - loss: 37262.3594 - root_mean_squared_error: 47660.2109 - val_loss: 51994.7656 - val_root_mean_squared_error: 62870.3281\n",
            "Epoch 62/100\n",
            "25/25 [==============================] - 0s 7ms/step - loss: 38036.5234 - root_mean_squared_error: 47015.1289 - val_loss: 45453.1133 - val_root_mean_squared_error: 56246.6836\n",
            "Epoch 63/100\n",
            "25/25 [==============================] - 0s 8ms/step - loss: 36340.1992 - root_mean_squared_error: 45476.4961 - val_loss: 38715.5586 - val_root_mean_squared_error: 47406.9453\n",
            "Epoch 64/100\n",
            "25/25 [==============================] - 0s 6ms/step - loss: 34254.0586 - root_mean_squared_error: 43123.2344 - val_loss: 35921.3242 - val_root_mean_squared_error: 44984.9531\n",
            "Epoch 65/100\n",
            "25/25 [==============================] - 0s 6ms/step - loss: 31742.6973 - root_mean_squared_error: 40336.3945 - val_loss: 38155.1094 - val_root_mean_squared_error: 48187.6875\n",
            "Epoch 66/100\n",
            "25/25 [==============================] - 0s 7ms/step - loss: 33331.1133 - root_mean_squared_error: 42448.2773 - val_loss: 38095.3320 - val_root_mean_squared_error: 46602.4648\n",
            "Epoch 67/100\n",
            "25/25 [==============================] - 0s 6ms/step - loss: 32790.3867 - root_mean_squared_error: 40647.8984 - val_loss: 39286.3711 - val_root_mean_squared_error: 49300.4531\n",
            "Epoch 68/100\n",
            "25/25 [==============================] - 0s 7ms/step - loss: 34222.2031 - root_mean_squared_error: 42806.8359 - val_loss: 38712.4883 - val_root_mean_squared_error: 47516.6875\n",
            "Epoch 69/100\n",
            "25/25 [==============================] - 0s 7ms/step - loss: 36409.5039 - root_mean_squared_error: 46056.4609 - val_loss: 42311.5547 - val_root_mean_squared_error: 50516.7930\n",
            "Epoch 70/100\n",
            "25/25 [==============================] - 0s 6ms/step - loss: 35372.1406 - root_mean_squared_error: 44865.5117 - val_loss: 42593.6250 - val_root_mean_squared_error: 52992.1406\n",
            "Epoch 71/100\n",
            "25/25 [==============================] - 0s 6ms/step - loss: 36144.2891 - root_mean_squared_error: 45042.6602 - val_loss: 37422.9141 - val_root_mean_squared_error: 45484.9336\n",
            "Epoch 72/100\n",
            "25/25 [==============================] - 0s 6ms/step - loss: 35246.9258 - root_mean_squared_error: 44191.2266 - val_loss: 36279.7344 - val_root_mean_squared_error: 44240.3242\n",
            "Epoch 73/100\n",
            "25/25 [==============================] - 0s 6ms/step - loss: 31691.9492 - root_mean_squared_error: 40103.2539 - val_loss: 35661.3789 - val_root_mean_squared_error: 44129.1562\n",
            "Epoch 74/100\n",
            "25/25 [==============================] - 0s 6ms/step - loss: 32325.0273 - root_mean_squared_error: 40647.7539 - val_loss: 38523.0195 - val_root_mean_squared_error: 47385.2891\n",
            "Epoch 75/100\n",
            "25/25 [==============================] - 0s 7ms/step - loss: 32565.2422 - root_mean_squared_error: 41347.2969 - val_loss: 39946.7461 - val_root_mean_squared_error: 48925.6797\n",
            "Epoch 76/100\n",
            "25/25 [==============================] - 0s 6ms/step - loss: 32696.1641 - root_mean_squared_error: 41163.6484 - val_loss: 38232.4258 - val_root_mean_squared_error: 46558.1875\n",
            "Epoch 77/100\n",
            "25/25 [==============================] - 0s 6ms/step - loss: 32818.8047 - root_mean_squared_error: 41445.3750 - val_loss: 36016.8906 - val_root_mean_squared_error: 44630.8633\n",
            "Epoch 78/100\n",
            "25/25 [==============================] - 0s 4ms/step - loss: 34556.9727 - root_mean_squared_error: 43455.5586 - val_loss: 37748.5859 - val_root_mean_squared_error: 48075.9062\n",
            "Epoch 79/100\n",
            "25/25 [==============================] - 0s 6ms/step - loss: 32657.2441 - root_mean_squared_error: 41038.1367 - val_loss: 41581.1289 - val_root_mean_squared_error: 51762.2461\n",
            "Epoch 80/100\n",
            "25/25 [==============================] - 0s 4ms/step - loss: 32347.1621 - root_mean_squared_error: 40175.0742 - val_loss: 42726.4648 - val_root_mean_squared_error: 53860.9297\n",
            "Epoch 81/100\n",
            "25/25 [==============================] - 0s 5ms/step - loss: 34685.1406 - root_mean_squared_error: 44130.0547 - val_loss: 40916.7930 - val_root_mean_squared_error: 51694.8477\n",
            "Epoch 82/100\n",
            "25/25 [==============================] - 0s 4ms/step - loss: 38945.6641 - root_mean_squared_error: 48355.1016 - val_loss: 50557.6211 - val_root_mean_squared_error: 61007.5664\n",
            "Epoch 83/100\n",
            "25/25 [==============================] - 0s 4ms/step - loss: 39136.4531 - root_mean_squared_error: 48714.1055 - val_loss: 45481.4453 - val_root_mean_squared_error: 57194.0703\n",
            "Epoch 84/100\n",
            "25/25 [==============================] - 0s 5ms/step - loss: 35753.2188 - root_mean_squared_error: 44378.6641 - val_loss: 40105.7930 - val_root_mean_squared_error: 49557.8438\n",
            "Epoch 85/100\n",
            "25/25 [==============================] - 0s 5ms/step - loss: 33529.2930 - root_mean_squared_error: 42182.1289 - val_loss: 40223.4336 - val_root_mean_squared_error: 50438.7969\n",
            "Epoch 86/100\n",
            "25/25 [==============================] - 0s 5ms/step - loss: 32672.3008 - root_mean_squared_error: 41485.1680 - val_loss: 38378.1523 - val_root_mean_squared_error: 46639.0508\n",
            "Epoch 87/100\n",
            "25/25 [==============================] - 0s 6ms/step - loss: 31259.2598 - root_mean_squared_error: 39023.1055 - val_loss: 39845.1055 - val_root_mean_squared_error: 48569.5859\n",
            "Epoch 88/100\n",
            "25/25 [==============================] - 0s 4ms/step - loss: 32424.3594 - root_mean_squared_error: 41325.8750 - val_loss: 39312.1992 - val_root_mean_squared_error: 48852.6211\n",
            "Epoch 89/100\n",
            "25/25 [==============================] - 0s 5ms/step - loss: 30338.3750 - root_mean_squared_error: 38776.0195 - val_loss: 39120.6562 - val_root_mean_squared_error: 49015.0000\n",
            "Epoch 90/100\n",
            "25/25 [==============================] - 0s 4ms/step - loss: 31560.0352 - root_mean_squared_error: 40068.7383 - val_loss: 41864.7383 - val_root_mean_squared_error: 51591.1055\n",
            "Epoch 91/100\n",
            "25/25 [==============================] - 0s 5ms/step - loss: 34745.3711 - root_mean_squared_error: 44213.8789 - val_loss: 42134.7891 - val_root_mean_squared_error: 53125.4805\n",
            "Epoch 92/100\n",
            "25/25 [==============================] - 0s 5ms/step - loss: 30170.9941 - root_mean_squared_error: 38079.6953 - val_loss: 39731.5547 - val_root_mean_squared_error: 49469.5117\n",
            "Epoch 93/100\n",
            "25/25 [==============================] - 0s 4ms/step - loss: 31049.0332 - root_mean_squared_error: 39067.4453 - val_loss: 39486.2812 - val_root_mean_squared_error: 49773.4297\n",
            "Epoch 94/100\n",
            "25/25 [==============================] - 0s 4ms/step - loss: 28778.7227 - root_mean_squared_error: 36586.4492 - val_loss: 41396.8086 - val_root_mean_squared_error: 50757.9688\n",
            "Epoch 95/100\n",
            "25/25 [==============================] - 0s 6ms/step - loss: 29052.4043 - root_mean_squared_error: 37143.8750 - val_loss: 39449.6289 - val_root_mean_squared_error: 48344.9570\n",
            "Epoch 96/100\n",
            "25/25 [==============================] - 0s 5ms/step - loss: 29787.4219 - root_mean_squared_error: 37945.0859 - val_loss: 44579.6484 - val_root_mean_squared_error: 56723.9883\n",
            "Epoch 97/100\n",
            "25/25 [==============================] - 0s 5ms/step - loss: 33572.2109 - root_mean_squared_error: 42276.1133 - val_loss: 49817.4883 - val_root_mean_squared_error: 62322.0664\n",
            "Epoch 98/100\n",
            "25/25 [==============================] - 0s 5ms/step - loss: 34161.0938 - root_mean_squared_error: 43192.6016 - val_loss: 43566.6445 - val_root_mean_squared_error: 55330.0859\n",
            "Epoch 99/100\n",
            "25/25 [==============================] - 0s 5ms/step - loss: 31984.3105 - root_mean_squared_error: 40969.0703 - val_loss: 38859.9336 - val_root_mean_squared_error: 48823.6797\n",
            "Epoch 100/100\n",
            "25/25 [==============================] - 0s 4ms/step - loss: 28252.4766 - root_mean_squared_error: 36260.6250 - val_loss: 40656.9531 - val_root_mean_squared_error: 51061.4609\n"
          ]
        }
      ]
    },
    {
      "cell_type": "code",
      "source": [
        "history.history"
      ],
      "metadata": {
        "id": "pHqwrZ00K96t",
        "colab": {
          "base_uri": "https://localhost:8080/"
        },
        "outputId": "c3f7e4e8-a11b-4146-dbdf-56cbaea1bc40"
      },
      "execution_count": null,
      "outputs": [
        {
          "output_type": "execute_result",
          "data": {
            "text/plain": [
              "{'loss': [161240.15625,\n",
              "  54417.265625,\n",
              "  46318.51953125,\n",
              "  40678.3359375,\n",
              "  39529.01953125,\n",
              "  43715.59375,\n",
              "  39271.9140625,\n",
              "  39864.08203125,\n",
              "  43771.10546875,\n",
              "  43937.8203125,\n",
              "  38150.4765625,\n",
              "  39132.1875,\n",
              "  38996.87109375,\n",
              "  38300.96875,\n",
              "  41863.26171875,\n",
              "  37385.609375,\n",
              "  38631.6484375,\n",
              "  36802.921875,\n",
              "  35579.87109375,\n",
              "  37257.4140625,\n",
              "  36623.54296875,\n",
              "  37314.6328125,\n",
              "  36027.03125,\n",
              "  38239.21875,\n",
              "  36875.83203125,\n",
              "  38663.8359375,\n",
              "  37227.8984375,\n",
              "  34040.56640625,\n",
              "  36923.765625,\n",
              "  39306.18359375,\n",
              "  34484.8984375,\n",
              "  50237.80078125,\n",
              "  43008.92578125,\n",
              "  36915.1953125,\n",
              "  37516.625,\n",
              "  39893.03125,\n",
              "  35614.421875,\n",
              "  38286.84375,\n",
              "  33962.4140625,\n",
              "  35589.7890625,\n",
              "  35341.0703125,\n",
              "  35378.20703125,\n",
              "  36055.95703125,\n",
              "  36189.203125,\n",
              "  38817.63671875,\n",
              "  40623.1796875,\n",
              "  41757.26171875,\n",
              "  37484.5859375,\n",
              "  37104.421875,\n",
              "  35664.2109375,\n",
              "  34923.87890625,\n",
              "  36869.8515625,\n",
              "  34107.34375,\n",
              "  36743.33203125,\n",
              "  38284.3515625,\n",
              "  34993.62109375,\n",
              "  33762.49609375,\n",
              "  33188.7734375,\n",
              "  33494.484375,\n",
              "  33999.2578125,\n",
              "  37262.359375,\n",
              "  38036.5234375,\n",
              "  36340.19921875,\n",
              "  34254.05859375,\n",
              "  31742.697265625,\n",
              "  33331.11328125,\n",
              "  32790.38671875,\n",
              "  34222.203125,\n",
              "  36409.50390625,\n",
              "  35372.140625,\n",
              "  36144.2890625,\n",
              "  35246.92578125,\n",
              "  31691.94921875,\n",
              "  32325.02734375,\n",
              "  32565.2421875,\n",
              "  32696.1640625,\n",
              "  32818.8046875,\n",
              "  34556.97265625,\n",
              "  32657.244140625,\n",
              "  32347.162109375,\n",
              "  34685.140625,\n",
              "  38945.6640625,\n",
              "  39136.453125,\n",
              "  35753.21875,\n",
              "  33529.29296875,\n",
              "  32672.30078125,\n",
              "  31259.259765625,\n",
              "  32424.359375,\n",
              "  30338.375,\n",
              "  31560.03515625,\n",
              "  34745.37109375,\n",
              "  30170.994140625,\n",
              "  31049.033203125,\n",
              "  28778.72265625,\n",
              "  29052.404296875,\n",
              "  29787.421875,\n",
              "  33572.2109375,\n",
              "  34161.09375,\n",
              "  31984.310546875,\n",
              "  28252.4765625],\n",
              " 'root_mean_squared_error': [212095.828125,\n",
              "  67270.9921875,\n",
              "  58158.6328125,\n",
              "  50838.68359375,\n",
              "  49408.796875,\n",
              "  54539.265625,\n",
              "  49255.67578125,\n",
              "  50375.078125,\n",
              "  54891.0546875,\n",
              "  54098.07421875,\n",
              "  47754.5859375,\n",
              "  48526.16796875,\n",
              "  49246.265625,\n",
              "  48109.1953125,\n",
              "  52568.76953125,\n",
              "  47201.02734375,\n",
              "  48215.3203125,\n",
              "  45898.51953125,\n",
              "  43670.9453125,\n",
              "  45998.2890625,\n",
              "  45584.11328125,\n",
              "  46258.04296875,\n",
              "  44676.515625,\n",
              "  48790.35546875,\n",
              "  45749.7578125,\n",
              "  47978.86328125,\n",
              "  46622.87890625,\n",
              "  42566.84765625,\n",
              "  46134.109375,\n",
              "  48709.89453125,\n",
              "  42905.70703125,\n",
              "  62481.359375,\n",
              "  54484.359375,\n",
              "  46184.16796875,\n",
              "  46944.25390625,\n",
              "  50167.70703125,\n",
              "  44083.7890625,\n",
              "  47663.97265625,\n",
              "  42983.29296875,\n",
              "  44475.7578125,\n",
              "  43537.9609375,\n",
              "  44480.3046875,\n",
              "  44610.6328125,\n",
              "  44996.953125,\n",
              "  49381.9453125,\n",
              "  51016.96875,\n",
              "  53081.88671875,\n",
              "  46734.4921875,\n",
              "  46257.953125,\n",
              "  44292.89453125,\n",
              "  44106.25,\n",
              "  46446.84375,\n",
              "  42413.375,\n",
              "  45586.5078125,\n",
              "  47969.296875,\n",
              "  43564.47265625,\n",
              "  42439.05078125,\n",
              "  41372.83984375,\n",
              "  42008.265625,\n",
              "  42683.9296875,\n",
              "  47660.2109375,\n",
              "  47015.12890625,\n",
              "  45476.49609375,\n",
              "  43123.234375,\n",
              "  40336.39453125,\n",
              "  42448.27734375,\n",
              "  40647.8984375,\n",
              "  42806.8359375,\n",
              "  46056.4609375,\n",
              "  44865.51171875,\n",
              "  45042.66015625,\n",
              "  44191.2265625,\n",
              "  40103.25390625,\n",
              "  40647.75390625,\n",
              "  41347.296875,\n",
              "  41163.6484375,\n",
              "  41445.375,\n",
              "  43455.55859375,\n",
              "  41038.13671875,\n",
              "  40175.07421875,\n",
              "  44130.0546875,\n",
              "  48355.1015625,\n",
              "  48714.10546875,\n",
              "  44378.6640625,\n",
              "  42182.12890625,\n",
              "  41485.16796875,\n",
              "  39023.10546875,\n",
              "  41325.875,\n",
              "  38776.01953125,\n",
              "  40068.73828125,\n",
              "  44213.87890625,\n",
              "  38079.6953125,\n",
              "  39067.4453125,\n",
              "  36586.44921875,\n",
              "  37143.875,\n",
              "  37945.0859375,\n",
              "  42276.11328125,\n",
              "  43192.6015625,\n",
              "  40969.0703125,\n",
              "  36260.625],\n",
              " 'val_loss': [83507.6171875,\n",
              "  42357.83984375,\n",
              "  44588.86328125,\n",
              "  36224.80859375,\n",
              "  37983.515625,\n",
              "  35818.57421875,\n",
              "  36566.7109375,\n",
              "  39837.53125,\n",
              "  42662.25390625,\n",
              "  40646.234375,\n",
              "  37272.98828125,\n",
              "  42877.23828125,\n",
              "  38246.10546875,\n",
              "  48608.296875,\n",
              "  46826.33984375,\n",
              "  39695.72265625,\n",
              "  37659.2890625,\n",
              "  37482.265625,\n",
              "  35623.609375,\n",
              "  35507.44921875,\n",
              "  42686.44921875,\n",
              "  33549.6640625,\n",
              "  46041.83984375,\n",
              "  45416.0,\n",
              "  36500.6171875,\n",
              "  39512.73046875,\n",
              "  35478.0546875,\n",
              "  37336.1328125,\n",
              "  36693.734375,\n",
              "  42222.64453125,\n",
              "  34105.13671875,\n",
              "  40396.40234375,\n",
              "  49473.46875,\n",
              "  39065.4375,\n",
              "  45835.9453125,\n",
              "  35065.38671875,\n",
              "  37075.34375,\n",
              "  35383.92578125,\n",
              "  38269.1015625,\n",
              "  37889.8671875,\n",
              "  37415.06640625,\n",
              "  34380.8828125,\n",
              "  36611.02734375,\n",
              "  51282.1015625,\n",
              "  36985.69140625,\n",
              "  34933.671875,\n",
              "  41756.25,\n",
              "  44377.4140625,\n",
              "  38598.3203125,\n",
              "  41687.203125,\n",
              "  39663.7734375,\n",
              "  38457.2109375,\n",
              "  35623.83203125,\n",
              "  44851.09375,\n",
              "  39373.46484375,\n",
              "  36596.9375,\n",
              "  41728.37109375,\n",
              "  35632.671875,\n",
              "  36151.76953125,\n",
              "  35160.63671875,\n",
              "  51994.765625,\n",
              "  45453.11328125,\n",
              "  38715.55859375,\n",
              "  35921.32421875,\n",
              "  38155.109375,\n",
              "  38095.33203125,\n",
              "  39286.37109375,\n",
              "  38712.48828125,\n",
              "  42311.5546875,\n",
              "  42593.625,\n",
              "  37422.9140625,\n",
              "  36279.734375,\n",
              "  35661.37890625,\n",
              "  38523.01953125,\n",
              "  39946.74609375,\n",
              "  38232.42578125,\n",
              "  36016.890625,\n",
              "  37748.5859375,\n",
              "  41581.12890625,\n",
              "  42726.46484375,\n",
              "  40916.79296875,\n",
              "  50557.62109375,\n",
              "  45481.4453125,\n",
              "  40105.79296875,\n",
              "  40223.43359375,\n",
              "  38378.15234375,\n",
              "  39845.10546875,\n",
              "  39312.19921875,\n",
              "  39120.65625,\n",
              "  41864.73828125,\n",
              "  42134.7890625,\n",
              "  39731.5546875,\n",
              "  39486.28125,\n",
              "  41396.80859375,\n",
              "  39449.62890625,\n",
              "  44579.6484375,\n",
              "  49817.48828125,\n",
              "  43566.64453125,\n",
              "  38859.93359375,\n",
              "  40656.953125],\n",
              " 'val_root_mean_squared_error': [96877.1640625,\n",
              "  53484.21484375,\n",
              "  54082.5546875,\n",
              "  44801.5859375,\n",
              "  46778.10546875,\n",
              "  43788.0703125,\n",
              "  44668.85546875,\n",
              "  48025.60546875,\n",
              "  51982.73046875,\n",
              "  49341.89453125,\n",
              "  46402.98046875,\n",
              "  53428.37890625,\n",
              "  45761.63671875,\n",
              "  59597.671875,\n",
              "  56125.16015625,\n",
              "  48661.265625,\n",
              "  48030.65234375,\n",
              "  46889.59375,\n",
              "  44385.0625,\n",
              "  43602.3515625,\n",
              "  52986.25,\n",
              "  41172.2421875,\n",
              "  55776.27734375,\n",
              "  56644.74609375,\n",
              "  45947.984375,\n",
              "  48613.359375,\n",
              "  43354.44921875,\n",
              "  47888.0859375,\n",
              "  44892.66796875,\n",
              "  52752.9296875,\n",
              "  42285.76953125,\n",
              "  49913.078125,\n",
              "  61011.87109375,\n",
              "  47587.62109375,\n",
              "  57787.6484375,\n",
              "  42817.71484375,\n",
              "  45700.2890625,\n",
              "  43570.19140625,\n",
              "  47818.31640625,\n",
              "  48092.9296875,\n",
              "  47189.41015625,\n",
              "  43286.45703125,\n",
              "  45070.33203125,\n",
              "  62268.07421875,\n",
              "  46626.67578125,\n",
              "  43808.62890625,\n",
              "  52110.94140625,\n",
              "  54026.65625,\n",
              "  48975.625,\n",
              "  53067.6015625,\n",
              "  49699.1953125,\n",
              "  48438.56640625,\n",
              "  43714.09375,\n",
              "  54277.1171875,\n",
              "  47946.7109375,\n",
              "  45817.62890625,\n",
              "  51364.51171875,\n",
              "  44113.9453125,\n",
              "  44524.28125,\n",
              "  43426.796875,\n",
              "  62870.328125,\n",
              "  56246.68359375,\n",
              "  47406.9453125,\n",
              "  44984.953125,\n",
              "  48187.6875,\n",
              "  46602.46484375,\n",
              "  49300.453125,\n",
              "  47516.6875,\n",
              "  50516.79296875,\n",
              "  52992.140625,\n",
              "  45484.93359375,\n",
              "  44240.32421875,\n",
              "  44129.15625,\n",
              "  47385.2890625,\n",
              "  48925.6796875,\n",
              "  46558.1875,\n",
              "  44630.86328125,\n",
              "  48075.90625,\n",
              "  51762.24609375,\n",
              "  53860.9296875,\n",
              "  51694.84765625,\n",
              "  61007.56640625,\n",
              "  57194.0703125,\n",
              "  49557.84375,\n",
              "  50438.796875,\n",
              "  46639.05078125,\n",
              "  48569.5859375,\n",
              "  48852.62109375,\n",
              "  49015.0,\n",
              "  51591.10546875,\n",
              "  53125.48046875,\n",
              "  49469.51171875,\n",
              "  49773.4296875,\n",
              "  50757.96875,\n",
              "  48344.95703125,\n",
              "  56723.98828125,\n",
              "  62322.06640625,\n",
              "  55330.0859375,\n",
              "  48823.6796875,\n",
              "  51061.4609375]}"
            ]
          },
          "metadata": {},
          "execution_count": 102
        }
      ]
    },
    {
      "cell_type": "code",
      "source": [
        "import matplotlib.pyplot as plt"
      ],
      "metadata": {
        "id": "aXxHcBE-LJja"
      },
      "execution_count": null,
      "outputs": []
    },
    {
      "cell_type": "code",
      "source": [
        "plt.plot(history.history['loss'])\n",
        "plt.plot(history.history['val_loss'])\n",
        "plt.title('model loss')\n",
        "plt.xlabel('epochs')\n",
        "plt.ylabel('loss')\n",
        "plt.legend(['train','val-loss'])\n",
        "plt.show()"
      ],
      "metadata": {
        "id": "O5ppocQqLPMj",
        "colab": {
          "base_uri": "https://localhost:8080/",
          "height": 472
        },
        "outputId": "b36dcb49-b1a2-40ea-e92e-4fd5717f3b7a"
      },
      "execution_count": null,
      "outputs": [
        {
          "output_type": "display_data",
          "data": {
            "text/plain": [
              "<Figure size 640x480 with 1 Axes>"
            ],
            "image/png": "[encoded data removed]"
          },
          "metadata": {}
        }
      ]
    },
    {
      "cell_type": "code",
      "source": [
        "#performance measurement"
      ],
      "metadata": {
        "id": "pODWM39WJ0A4"
      },
      "execution_count": null,
      "outputs": []
    },
    {
      "cell_type": "code",
      "source": [
        "#root mean squared error\n",
        "#the measure of how well a regression line fits the data points"
      ],
      "metadata": {
        "id": "5MF6N1mBKg1A"
      },
      "execution_count": null,
      "outputs": []
    },
    {
      "cell_type": "code",
      "source": [
        "model.evaluate(X_test,y_test)"
      ],
      "metadata": {
        "id": "QkOCFM8TKlGq",
        "colab": {
          "base_uri": "https://localhost:8080/"
        },
        "outputId": "dcfbee18-1314-4e92-e3b2-692bc09a8e43"
      },
      "execution_count": null,
      "outputs": [
        {
          "output_type": "stream",
          "name": "stdout",
          "text": [
            "4/4 [==============================] - 0s 6ms/step - loss: 41812.2461 - root_mean_squared_error: 51077.5664\n"
          ]
        },
        {
          "output_type": "execute_result",
          "data": {
            "text/plain": [
              "[41812.24609375, 51077.56640625]"
            ]
          },
          "metadata": {},
          "execution_count": 107
        }
      ]
    },
    {
      "cell_type": "code",
      "source": [
        "X_test.shape"
      ],
      "metadata": {
        "id": "EBh4bWhcPPbu",
        "colab": {
          "base_uri": "https://localhost:8080/"
        },
        "outputId": "e241e5bb-d2a2-4b82-b43e-b91107d9d5f8"
      },
      "execution_count": null,
      "outputs": [
        {
          "output_type": "execute_result",
          "data": {
            "text/plain": [
              "TensorShape([100, 8])"
            ]
          },
          "metadata": {},
          "execution_count": 108
        }
      ]
    },
    {
      "cell_type": "code",
      "source": [
        "model.predict(X_test[0])"
      ],
      "metadata": {
        "id": "OgRO7W973-YQ",
        "colab": {
          "base_uri": "https://localhost:8080/"
        },
        "outputId": "2c30e329-fa6d-4d68-a9e5-156f1f61bf6f"
      },
      "execution_count": null,
      "outputs": [
        {
          "output_type": "stream",
          "name": "stdout",
          "text": [
            "1/1 [==============================] - 0s 171ms/step\n"
          ]
        },
        {
          "output_type": "execute_result",
          "data": {
            "text/plain": [
              "array([[223826.97]], dtype=float32)"
            ]
          },
          "metadata": {},
          "execution_count": 109
        }
      ]
    },
    {
      "cell_type": "code",
      "source": [
        "y_test[0]"
      ],
      "metadata": {
        "id": "7DvrNG3P4Beh",
        "colab": {
          "base_uri": "https://localhost:8080/"
        },
        "outputId": "bd53364e-3f5c-44ab-be68-de6eb4f972ac"
      },
      "execution_count": null,
      "outputs": [
        {
          "output_type": "execute_result",
          "data": {
            "text/plain": [
              "<tf.Tensor: shape=(1,), dtype=float32, numpy=array([218814.], dtype=float32)>"
            ]
          },
          "metadata": {},
          "execution_count": 110
        }
      ]
    },
    {
      "cell_type": "code",
      "source": [
        "\n"
      ],
      "metadata": {
        "id": "Ul0_5cKl4cfM"
      },
      "execution_count": null,
      "outputs": []
    },
    {
      "cell_type": "code",
      "source": [],
      "metadata": {
        "id": "JAo-jIrA5DDK"
      },
      "execution_count": null,
      "outputs": []
    }
  ]
}